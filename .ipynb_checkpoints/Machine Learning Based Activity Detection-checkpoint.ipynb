{
 "cells": [
  {
   "cell_type": "markdown",
   "metadata": {
    "id": "lUoaQcfYvNVP"
   },
   "source": [
    "# Introduction\n",
    "In this project, we're using data from smartphones and smartwatches to build a model that can tell when someone is sitting down. We'll be using various machine learning techniques to process this sensory data and build a model that can differentiate between sitting and other activities.\n",
    "\n",
    "# Approach\n",
    "\n",
    "* **Exploratory data analysis (EDA)**\n",
    "* **Model training**\n",
    "* **Model evaluation**\n",
    "* **Model comparison**\n",
    "* **Model fine-tuning**\n",
    "* **Feature importance**\n",
    "* **Cross-validation**\n",
    "\n",
    "\n",
    "\n",
    "# Features\n",
    "* The first row specifies the columns of the file.\n",
    "* Every other row refers to an example from the user. The examples are sorted according to the primary key - the timestamp.\n",
    "* The columns:\n",
    "    * First column is 'timestamp'. This is represented as standard number of seconds since the epoch.\n",
    "    * Second, come columns for the extracted features.\n",
    "   Unavailable features are represented with 'nan'.\n",
    "   The name of each feature contains reference to the sensor it was extracted from, in the form [sensor_name]:[feature_name].\n",
    "   The current version contains features from the following sensors, with sensor names:\n",
    "        * raw_acc: Accelerometer from the phone. The 'raw' version of acceleration (as opposed to the decomposed versions of gravity and user-acceleration).   \n",
    "        * proc_gyro: Gyroscope from the phone. Processed version of gyroscope measurements (the OS calculates a version that removes drift).\n",
    "        * raw_magnet: Magnetometer from the phone. Raw version (as opposed to bias-fixed version that the OS also provides).\n",
    "        * watch_acceleration: Accelerometer from the watch.\n",
    "        * watch_heading: Heading from the compass on the watch.\n",
    "        * location: Location services. These features were extracted offline for every example from the sequence of latitude-longitude-altitude updates from the example's minute.\n",
    "            * These features regard only to relative-location (not absolute location in the world) - meaning, they describe variability of movement within the minute.\n",
    "        * location_quick_features: Location services. These features were calculated on the phone when data was collected.\n",
    "            * These are available even in cases that the other location features are not because the user wanted to conceal their absolute location coordinates.\n",
    "            * These quick features are very simple heuristics that approximate the more thoughtful offline features.\n",
    "        * audio_naive: Microphone. These naive features are simply averages and standard deviations of the 13 MFCCs from the ~20sec recording window of every example.\n",
    "        * discrete: Phone-state. These are binary indicators for the state of the phone.\n",
    "            * Notice that time_of_day features are also considered phone-state features (also have prefix 'discrete:'), but their columns appear not right after the other 'discrete' columns.\n",
    "        * lf_measurements: Various sensors that were recorded in low-frequency (meaning, once per example).\n",
    "\n",
    "    * Third, come columns for the ground truth labels.\n",
    "   The values are either 1 (label is relevant for the example), 0 (label is not relevant for the example), or 'nan' (label is considered 'missing' for this example).\n",
    "   \n",
    "   Originally, users could only report 'positive' labels (in the original ExtraSensory paper, Vaizman2017a, we assumed that when a label was not reported it is a 'negative' example).\n",
    "   \n",
    "   This cleaned version of the labels has the notion of 'missing labels'; Details about how we inferred missing label information is provided in the second paper, Vaizman2017b (see http://extrasensory.ucsd.edu for updated references).\n",
    "   \n",
    "   The names of the labels have prefix 'label:'. After the prefix:\n",
    "   \n",
    "   If the label name is all capitalized, it is an original label from the mobile app's interface and the values were taken from what the user originally reported.\n",
    "   \n",
    "   If the label name begins with 'FIX_', this is a fixes/cleaned version of a corresponding label, meaning that the researchers fixed some of the values that were reported by users because of inconsistencies.\n",
    "   \n",
    "   If the label name begins with 'OR_', this is a synthesized label, meaning it did not appear in the app's label menu, but rather the researchers created it as combination (using logical or) of other related labels.\n",
    "   \n",
    "   If the label name begins with 'LOC_', this is a fixed/cleaned version of a corresponding label that was fixed by researchers based on absolute location.\n",
    "      LOC_beach was based on original label 'AT_THE_BEACH'.\n",
    "\t  LOC_home was based on original label 'AT_HOME'.\n",
    "\t  LOC_main_workplace was based on original label 'AT_WORK'.\n",
    "\n",
    "    * Fourth, the last column is label_source, describing where the original labeling came from in the mobile app's interface. It has 8 possible values:\n",
    "        * -1: The user did not report any labels for this example (notice, however, that this example may still have labeling for the 'LOC_' labels).\n",
    "        * 0 : The user used the 'active feedback' interface (reporting immediate future). This example is the first in relevant minute sequence.\n",
    "        * 1 : The user used the 'active feedback' interface. This example is a continuation of a sequence of minutes since the user started the reported context.\n",
    "        * 2 : The user used the history interface to label an example from the past.\n",
    "        * 3 : The user replied to a notification that simply asked to provide any labels.\n",
    "        * 4 : The user replied to a notification that asked 'In the past [minutes] minutes were you still [recent context]?'. The user replied 'correct' on the phone.\n",
    "        * 5 : The user replied to a notification that asked 'In the past [minutes] minutes were you still [recent context]?'. The user replied 'not exactly' and then corrected the context labels.\n",
    "        * 6 : The user replied to a notification that asked 'In the past [minutes] minutes were you still [recent context]?'. The user replied 'correct' on the watch interface.\n",
    "        \n",
    "# Tools Required\n",
    "* pandas for data analysis\n",
    "* NumPy for numerical operations\n",
    "* Matplotlib/seaborn for plotting or data visualization.\n",
    "* Scikit-Learn for machine learning modelling and evaluation.\n",
    "\n",
    "# Setting Up the Environment"
   ]
  },
  {
   "cell_type": "code",
   "execution_count": 1,
   "metadata": {
    "colab": {
     "base_uri": "https://localhost:8080/"
    },
    "id": "6eHpOL2DwVPf",
    "outputId": "ad17b9fe-1976-46b9-f048-a1124a297b07",
    "tags": []
   },
   "outputs": [],
   "source": [
    "import os\n",
    "import numpy as np\n",
    "import pandas as pd\n",
    "import matplotlib.pyplot as plt\n",
    "import seaborn as sns\n",
    "import warnings\n",
    "warnings.filterwarnings('ignore')\n",
    "%matplotlib inline\n",
    "\n",
    "#Models\n",
    "from sklearn.linear_model import LogisticRegression\n",
    "from sklearn.neighbors import KNeighborsClassifier\n",
    "from sklearn.ensemble import RandomForestClassifier\n",
    "from sklearn.tree import DecisionTreeClassifier\n",
    "import xgboost as xgb\n",
    "\n",
    "# Model Evaluators\n",
    "from sklearn.model_selection import train_test_split, cross_val_score\n",
    "from sklearn.model_selection import RandomizedSearchCV\n",
    "from sklearn.metrics import confusion_matrix, classification_report\n",
    "from sklearn.metrics import accuracy_score, recall_score, precision_score, f1_score, roc_auc_score\n",
    "from sklearn.metrics import RocCurveDisplay\n",
    "\n",
    "\n",
    "# Data Preprocessing\n",
    "from sklearn.impute import SimpleImputer\n",
    "from sklearn.preprocessing import StandardScaler\n",
    "\n",
    "# Saving and Loading Models\n",
    "save_directory = 'model/'\n",
    "import joblib\n",
    "from joblib import dump\n",
    "from joblib import load\n",
    "\n",
    "# For reproducibility\n",
    "np.random.seed(42)"
   ]
  },
  {
   "cell_type": "markdown",
   "metadata": {},
   "source": [
    "## Loading the Dataset"
   ]
  },
  {
   "cell_type": "code",
   "execution_count": 2,
   "metadata": {
    "colab": {
     "base_uri": "https://localhost:8080/"
    },
    "id": "wHSeQMMA0UBS",
    "outputId": "11b16d56-5ad1-4cbb-8c8a-65155d649c85",
    "tags": []
   },
   "outputs": [],
   "source": [
    "cwd = \"ExtraSensory.per_uuid_features_labels/\""
   ]
  },
  {
   "cell_type": "markdown",
   "metadata": {
    "tags": []
   },
   "source": [
    "## Combining the entire datset into a single dataframe\n",
    "\n",
    "The reason for this approach was that the initial exploratory analysis found a lot of missing values and it became increasingly difficult to model with a single csv file. Hence, I decided to combine the entire dataset, aiming to create a more comprehensive and cohesive data structure that would facilitate more effective modeling."
   ]
  },
  {
   "cell_type": "code",
   "execution_count": 3,
   "metadata": {
    "id": "2aqekyf788lg",
    "tags": []
   },
   "outputs": [],
   "source": [
    "all_files = sorted([file for file in os.listdir(cwd) if file.endswith('.features_labels.csv.gz')])\n",
    "\n",
    "def load_all_data():\n",
    "    all_data = []\n",
    "    for file_name in all_files:\n",
    "        file_path = os.path.join(cwd, file_name)\n",
    "        df = pd.read_csv(file_path)\n",
    "        all_data.append(df)\n",
    "\n",
    "    # Concatenate all dataframes\n",
    "    combined_df = pd.concat(all_data, ignore_index=True)\n",
    "    return combined_df"
   ]
  },
  {
   "cell_type": "code",
   "execution_count": 4,
   "metadata": {
    "id": "pBrlEHCr4icv",
    "tags": []
   },
   "outputs": [],
   "source": [
    "# Load all data into a single dataframe\n",
    "df = load_all_data()"
   ]
  },
  {
   "cell_type": "code",
   "execution_count": 5,
   "metadata": {
    "colab": {
     "base_uri": "https://localhost:8080/"
    },
    "id": "yOHmAasT4yM5",
    "outputId": "8d60df5d-8033-40f8-d595-887ccb27db76",
    "tags": []
   },
   "outputs": [
    {
     "data": {
      "text/plain": [
       "(377346, 278)"
      ]
     },
     "execution_count": 5,
     "metadata": {},
     "output_type": "execute_result"
    }
   ],
   "source": [
    "df.shape"
   ]
  },
  {
   "cell_type": "markdown",
   "metadata": {
    "id": "gmqNfDnV7Z2c"
   },
   "source": [
    "# Exploratory Data Analysis\n",
    "\n",
    "The goal is to delve deeper into our dataset to better understand its nuances and characteristics. First step is to examine what kind of data do we have, is it categorical or numerical? \n",
    "Secondly we'll try and explore if there are any missing values. If yes, then how do we deal with.\n",
    "Finally, looking at the dataset, can we deduce some correlation between our feature and target variable."
   ]
  },
  {
   "cell_type": "code",
   "execution_count": 6,
   "metadata": {
    "colab": {
     "base_uri": "https://localhost:8080/",
     "height": 533
    },
    "id": "zU_tOxEL53zr",
    "outputId": "1b97fdc0-000a-4f81-920e-03cdbc8605d9"
   },
   "outputs": [
    {
     "data": {
      "text/html": [
       "<div>\n",
       "<style scoped>\n",
       "    .dataframe tbody tr th:only-of-type {\n",
       "        vertical-align: middle;\n",
       "    }\n",
       "\n",
       "    .dataframe tbody tr th {\n",
       "        vertical-align: top;\n",
       "    }\n",
       "\n",
       "    .dataframe thead th {\n",
       "        text-align: right;\n",
       "    }\n",
       "</style>\n",
       "<table border=\"1\" class=\"dataframe\">\n",
       "  <thead>\n",
       "    <tr style=\"text-align: right;\">\n",
       "      <th></th>\n",
       "      <th>timestamp</th>\n",
       "      <th>raw_acc:magnitude_stats:mean</th>\n",
       "      <th>raw_acc:magnitude_stats:std</th>\n",
       "      <th>raw_acc:magnitude_stats:moment3</th>\n",
       "      <th>raw_acc:magnitude_stats:moment4</th>\n",
       "      <th>raw_acc:magnitude_stats:percentile25</th>\n",
       "      <th>raw_acc:magnitude_stats:percentile50</th>\n",
       "      <th>raw_acc:magnitude_stats:percentile75</th>\n",
       "      <th>raw_acc:magnitude_stats:value_entropy</th>\n",
       "      <th>raw_acc:magnitude_stats:time_entropy</th>\n",
       "      <th>...</th>\n",
       "      <th>label:STAIRS_-_GOING_DOWN</th>\n",
       "      <th>label:ELEVATOR</th>\n",
       "      <th>label:OR_standing</th>\n",
       "      <th>label:AT_SCHOOL</th>\n",
       "      <th>label:PHONE_IN_HAND</th>\n",
       "      <th>label:PHONE_IN_BAG</th>\n",
       "      <th>label:PHONE_ON_TABLE</th>\n",
       "      <th>label:WITH_CO-WORKERS</th>\n",
       "      <th>label:WITH_FRIENDS</th>\n",
       "      <th>label_source</th>\n",
       "    </tr>\n",
       "  </thead>\n",
       "  <tbody>\n",
       "    <tr>\n",
       "      <th>0</th>\n",
       "      <td>1444079161</td>\n",
       "      <td>0.996815</td>\n",
       "      <td>0.003529</td>\n",
       "      <td>-0.002786</td>\n",
       "      <td>0.006496</td>\n",
       "      <td>0.995203</td>\n",
       "      <td>0.996825</td>\n",
       "      <td>0.998502</td>\n",
       "      <td>1.748756</td>\n",
       "      <td>6.684605</td>\n",
       "      <td>...</td>\n",
       "      <td>NaN</td>\n",
       "      <td>NaN</td>\n",
       "      <td>0.0</td>\n",
       "      <td>NaN</td>\n",
       "      <td>NaN</td>\n",
       "      <td>NaN</td>\n",
       "      <td>1.0</td>\n",
       "      <td>1.0</td>\n",
       "      <td>NaN</td>\n",
       "      <td>2</td>\n",
       "    </tr>\n",
       "    <tr>\n",
       "      <th>1</th>\n",
       "      <td>1444079221</td>\n",
       "      <td>0.996864</td>\n",
       "      <td>0.004172</td>\n",
       "      <td>-0.003110</td>\n",
       "      <td>0.007050</td>\n",
       "      <td>0.994957</td>\n",
       "      <td>0.996981</td>\n",
       "      <td>0.998766</td>\n",
       "      <td>1.935573</td>\n",
       "      <td>6.684603</td>\n",
       "      <td>...</td>\n",
       "      <td>NaN</td>\n",
       "      <td>NaN</td>\n",
       "      <td>0.0</td>\n",
       "      <td>NaN</td>\n",
       "      <td>NaN</td>\n",
       "      <td>NaN</td>\n",
       "      <td>1.0</td>\n",
       "      <td>1.0</td>\n",
       "      <td>NaN</td>\n",
       "      <td>2</td>\n",
       "    </tr>\n",
       "    <tr>\n",
       "      <th>2</th>\n",
       "      <td>1444079281</td>\n",
       "      <td>0.996825</td>\n",
       "      <td>0.003667</td>\n",
       "      <td>0.003094</td>\n",
       "      <td>0.006076</td>\n",
       "      <td>0.994797</td>\n",
       "      <td>0.996614</td>\n",
       "      <td>0.998704</td>\n",
       "      <td>2.031780</td>\n",
       "      <td>6.684605</td>\n",
       "      <td>...</td>\n",
       "      <td>NaN</td>\n",
       "      <td>NaN</td>\n",
       "      <td>0.0</td>\n",
       "      <td>NaN</td>\n",
       "      <td>NaN</td>\n",
       "      <td>NaN</td>\n",
       "      <td>1.0</td>\n",
       "      <td>1.0</td>\n",
       "      <td>NaN</td>\n",
       "      <td>2</td>\n",
       "    </tr>\n",
       "    <tr>\n",
       "      <th>3</th>\n",
       "      <td>1444079341</td>\n",
       "      <td>0.996874</td>\n",
       "      <td>0.003541</td>\n",
       "      <td>0.000626</td>\n",
       "      <td>0.006059</td>\n",
       "      <td>0.995050</td>\n",
       "      <td>0.996907</td>\n",
       "      <td>0.998690</td>\n",
       "      <td>1.865318</td>\n",
       "      <td>6.684605</td>\n",
       "      <td>...</td>\n",
       "      <td>NaN</td>\n",
       "      <td>NaN</td>\n",
       "      <td>0.0</td>\n",
       "      <td>NaN</td>\n",
       "      <td>NaN</td>\n",
       "      <td>NaN</td>\n",
       "      <td>1.0</td>\n",
       "      <td>1.0</td>\n",
       "      <td>NaN</td>\n",
       "      <td>2</td>\n",
       "    </tr>\n",
       "    <tr>\n",
       "      <th>4</th>\n",
       "      <td>1444079431</td>\n",
       "      <td>0.997371</td>\n",
       "      <td>0.037653</td>\n",
       "      <td>0.043389</td>\n",
       "      <td>0.102332</td>\n",
       "      <td>0.995548</td>\n",
       "      <td>0.996860</td>\n",
       "      <td>0.998205</td>\n",
       "      <td>0.460806</td>\n",
       "      <td>6.683904</td>\n",
       "      <td>...</td>\n",
       "      <td>NaN</td>\n",
       "      <td>NaN</td>\n",
       "      <td>0.0</td>\n",
       "      <td>NaN</td>\n",
       "      <td>NaN</td>\n",
       "      <td>NaN</td>\n",
       "      <td>1.0</td>\n",
       "      <td>1.0</td>\n",
       "      <td>NaN</td>\n",
       "      <td>2</td>\n",
       "    </tr>\n",
       "  </tbody>\n",
       "</table>\n",
       "<p>5 rows × 278 columns</p>\n",
       "</div>"
      ],
      "text/plain": [
       "    timestamp  raw_acc:magnitude_stats:mean  raw_acc:magnitude_stats:std  \\\n",
       "0  1444079161                      0.996815                     0.003529   \n",
       "1  1444079221                      0.996864                     0.004172   \n",
       "2  1444079281                      0.996825                     0.003667   \n",
       "3  1444079341                      0.996874                     0.003541   \n",
       "4  1444079431                      0.997371                     0.037653   \n",
       "\n",
       "   raw_acc:magnitude_stats:moment3  raw_acc:magnitude_stats:moment4  \\\n",
       "0                        -0.002786                         0.006496   \n",
       "1                        -0.003110                         0.007050   \n",
       "2                         0.003094                         0.006076   \n",
       "3                         0.000626                         0.006059   \n",
       "4                         0.043389                         0.102332   \n",
       "\n",
       "   raw_acc:magnitude_stats:percentile25  raw_acc:magnitude_stats:percentile50  \\\n",
       "0                              0.995203                              0.996825   \n",
       "1                              0.994957                              0.996981   \n",
       "2                              0.994797                              0.996614   \n",
       "3                              0.995050                              0.996907   \n",
       "4                              0.995548                              0.996860   \n",
       "\n",
       "   raw_acc:magnitude_stats:percentile75  \\\n",
       "0                              0.998502   \n",
       "1                              0.998766   \n",
       "2                              0.998704   \n",
       "3                              0.998690   \n",
       "4                              0.998205   \n",
       "\n",
       "   raw_acc:magnitude_stats:value_entropy  \\\n",
       "0                               1.748756   \n",
       "1                               1.935573   \n",
       "2                               2.031780   \n",
       "3                               1.865318   \n",
       "4                               0.460806   \n",
       "\n",
       "   raw_acc:magnitude_stats:time_entropy  ...  label:STAIRS_-_GOING_DOWN  \\\n",
       "0                              6.684605  ...                        NaN   \n",
       "1                              6.684603  ...                        NaN   \n",
       "2                              6.684605  ...                        NaN   \n",
       "3                              6.684605  ...                        NaN   \n",
       "4                              6.683904  ...                        NaN   \n",
       "\n",
       "   label:ELEVATOR  label:OR_standing  label:AT_SCHOOL  label:PHONE_IN_HAND  \\\n",
       "0             NaN                0.0              NaN                  NaN   \n",
       "1             NaN                0.0              NaN                  NaN   \n",
       "2             NaN                0.0              NaN                  NaN   \n",
       "3             NaN                0.0              NaN                  NaN   \n",
       "4             NaN                0.0              NaN                  NaN   \n",
       "\n",
       "   label:PHONE_IN_BAG  label:PHONE_ON_TABLE  label:WITH_CO-WORKERS  \\\n",
       "0                 NaN                   1.0                    1.0   \n",
       "1                 NaN                   1.0                    1.0   \n",
       "2                 NaN                   1.0                    1.0   \n",
       "3                 NaN                   1.0                    1.0   \n",
       "4                 NaN                   1.0                    1.0   \n",
       "\n",
       "   label:WITH_FRIENDS  label_source  \n",
       "0                 NaN             2  \n",
       "1                 NaN             2  \n",
       "2                 NaN             2  \n",
       "3                 NaN             2  \n",
       "4                 NaN             2  \n",
       "\n",
       "[5 rows x 278 columns]"
      ]
     },
     "execution_count": 6,
     "metadata": {},
     "output_type": "execute_result"
    }
   ],
   "source": [
    "df.head()"
   ]
  },
  {
   "cell_type": "code",
   "execution_count": 7,
   "metadata": {
    "colab": {
     "base_uri": "https://localhost:8080/"
    },
    "id": "R7f1i5J18dL1",
    "outputId": "c4856c76-31f2-4993-d0b2-6c5794bfce2d"
   },
   "outputs": [
    {
     "data": {
      "text/plain": [
       "['timestamp',\n",
       " 'raw_acc:magnitude_stats:mean',\n",
       " 'raw_acc:magnitude_stats:std',\n",
       " 'raw_acc:magnitude_stats:moment3',\n",
       " 'raw_acc:magnitude_stats:moment4',\n",
       " 'raw_acc:magnitude_stats:percentile25',\n",
       " 'raw_acc:magnitude_stats:percentile50',\n",
       " 'raw_acc:magnitude_stats:percentile75',\n",
       " 'raw_acc:magnitude_stats:value_entropy',\n",
       " 'raw_acc:magnitude_stats:time_entropy',\n",
       " 'raw_acc:magnitude_spectrum:log_energy_band0',\n",
       " 'raw_acc:magnitude_spectrum:log_energy_band1',\n",
       " 'raw_acc:magnitude_spectrum:log_energy_band2',\n",
       " 'raw_acc:magnitude_spectrum:log_energy_band3',\n",
       " 'raw_acc:magnitude_spectrum:log_energy_band4',\n",
       " 'raw_acc:magnitude_spectrum:spectral_entropy',\n",
       " 'raw_acc:magnitude_autocorrelation:period',\n",
       " 'raw_acc:magnitude_autocorrelation:normalized_ac',\n",
       " 'raw_acc:3d:mean_x',\n",
       " 'raw_acc:3d:mean_y',\n",
       " 'raw_acc:3d:mean_z',\n",
       " 'raw_acc:3d:std_x',\n",
       " 'raw_acc:3d:std_y',\n",
       " 'raw_acc:3d:std_z',\n",
       " 'raw_acc:3d:ro_xy',\n",
       " 'raw_acc:3d:ro_xz',\n",
       " 'raw_acc:3d:ro_yz',\n",
       " 'proc_gyro:magnitude_stats:mean',\n",
       " 'proc_gyro:magnitude_stats:std',\n",
       " 'proc_gyro:magnitude_stats:moment3',\n",
       " 'proc_gyro:magnitude_stats:moment4',\n",
       " 'proc_gyro:magnitude_stats:percentile25',\n",
       " 'proc_gyro:magnitude_stats:percentile50',\n",
       " 'proc_gyro:magnitude_stats:percentile75',\n",
       " 'proc_gyro:magnitude_stats:value_entropy',\n",
       " 'proc_gyro:magnitude_stats:time_entropy',\n",
       " 'proc_gyro:magnitude_spectrum:log_energy_band0',\n",
       " 'proc_gyro:magnitude_spectrum:log_energy_band1',\n",
       " 'proc_gyro:magnitude_spectrum:log_energy_band2',\n",
       " 'proc_gyro:magnitude_spectrum:log_energy_band3',\n",
       " 'proc_gyro:magnitude_spectrum:log_energy_band4',\n",
       " 'proc_gyro:magnitude_spectrum:spectral_entropy',\n",
       " 'proc_gyro:magnitude_autocorrelation:period',\n",
       " 'proc_gyro:magnitude_autocorrelation:normalized_ac',\n",
       " 'proc_gyro:3d:mean_x',\n",
       " 'proc_gyro:3d:mean_y',\n",
       " 'proc_gyro:3d:mean_z',\n",
       " 'proc_gyro:3d:std_x',\n",
       " 'proc_gyro:3d:std_y',\n",
       " 'proc_gyro:3d:std_z',\n",
       " 'proc_gyro:3d:ro_xy',\n",
       " 'proc_gyro:3d:ro_xz',\n",
       " 'proc_gyro:3d:ro_yz',\n",
       " 'raw_magnet:magnitude_stats:mean',\n",
       " 'raw_magnet:magnitude_stats:std',\n",
       " 'raw_magnet:magnitude_stats:moment3',\n",
       " 'raw_magnet:magnitude_stats:moment4',\n",
       " 'raw_magnet:magnitude_stats:percentile25',\n",
       " 'raw_magnet:magnitude_stats:percentile50',\n",
       " 'raw_magnet:magnitude_stats:percentile75',\n",
       " 'raw_magnet:magnitude_stats:value_entropy',\n",
       " 'raw_magnet:magnitude_stats:time_entropy',\n",
       " 'raw_magnet:magnitude_spectrum:log_energy_band0',\n",
       " 'raw_magnet:magnitude_spectrum:log_energy_band1',\n",
       " 'raw_magnet:magnitude_spectrum:log_energy_band2',\n",
       " 'raw_magnet:magnitude_spectrum:log_energy_band3',\n",
       " 'raw_magnet:magnitude_spectrum:log_energy_band4',\n",
       " 'raw_magnet:magnitude_spectrum:spectral_entropy',\n",
       " 'raw_magnet:magnitude_autocorrelation:period',\n",
       " 'raw_magnet:magnitude_autocorrelation:normalized_ac',\n",
       " 'raw_magnet:3d:mean_x',\n",
       " 'raw_magnet:3d:mean_y',\n",
       " 'raw_magnet:3d:mean_z',\n",
       " 'raw_magnet:3d:std_x',\n",
       " 'raw_magnet:3d:std_y',\n",
       " 'raw_magnet:3d:std_z',\n",
       " 'raw_magnet:3d:ro_xy',\n",
       " 'raw_magnet:3d:ro_xz',\n",
       " 'raw_magnet:3d:ro_yz',\n",
       " 'raw_magnet:avr_cosine_similarity_lag_range0',\n",
       " 'raw_magnet:avr_cosine_similarity_lag_range1',\n",
       " 'raw_magnet:avr_cosine_similarity_lag_range2',\n",
       " 'raw_magnet:avr_cosine_similarity_lag_range3',\n",
       " 'raw_magnet:avr_cosine_similarity_lag_range4',\n",
       " 'watch_acceleration:magnitude_stats:mean',\n",
       " 'watch_acceleration:magnitude_stats:std',\n",
       " 'watch_acceleration:magnitude_stats:moment3',\n",
       " 'watch_acceleration:magnitude_stats:moment4',\n",
       " 'watch_acceleration:magnitude_stats:percentile25',\n",
       " 'watch_acceleration:magnitude_stats:percentile50',\n",
       " 'watch_acceleration:magnitude_stats:percentile75',\n",
       " 'watch_acceleration:magnitude_stats:value_entropy',\n",
       " 'watch_acceleration:magnitude_stats:time_entropy',\n",
       " 'watch_acceleration:magnitude_spectrum:log_energy_band0',\n",
       " 'watch_acceleration:magnitude_spectrum:log_energy_band1',\n",
       " 'watch_acceleration:magnitude_spectrum:log_energy_band2',\n",
       " 'watch_acceleration:magnitude_spectrum:log_energy_band3',\n",
       " 'watch_acceleration:magnitude_spectrum:log_energy_band4',\n",
       " 'watch_acceleration:magnitude_spectrum:spectral_entropy',\n",
       " 'watch_acceleration:magnitude_autocorrelation:period',\n",
       " 'watch_acceleration:magnitude_autocorrelation:normalized_ac',\n",
       " 'watch_acceleration:3d:mean_x',\n",
       " 'watch_acceleration:3d:mean_y',\n",
       " 'watch_acceleration:3d:mean_z',\n",
       " 'watch_acceleration:3d:std_x',\n",
       " 'watch_acceleration:3d:std_y',\n",
       " 'watch_acceleration:3d:std_z',\n",
       " 'watch_acceleration:3d:ro_xy',\n",
       " 'watch_acceleration:3d:ro_xz',\n",
       " 'watch_acceleration:3d:ro_yz',\n",
       " 'watch_acceleration:spectrum:x_log_energy_band0',\n",
       " 'watch_acceleration:spectrum:x_log_energy_band1',\n",
       " 'watch_acceleration:spectrum:x_log_energy_band2',\n",
       " 'watch_acceleration:spectrum:x_log_energy_band3',\n",
       " 'watch_acceleration:spectrum:x_log_energy_band4',\n",
       " 'watch_acceleration:spectrum:y_log_energy_band0',\n",
       " 'watch_acceleration:spectrum:y_log_energy_band1',\n",
       " 'watch_acceleration:spectrum:y_log_energy_band2',\n",
       " 'watch_acceleration:spectrum:y_log_energy_band3',\n",
       " 'watch_acceleration:spectrum:y_log_energy_band4',\n",
       " 'watch_acceleration:spectrum:z_log_energy_band0',\n",
       " 'watch_acceleration:spectrum:z_log_energy_band1',\n",
       " 'watch_acceleration:spectrum:z_log_energy_band2',\n",
       " 'watch_acceleration:spectrum:z_log_energy_band3',\n",
       " 'watch_acceleration:spectrum:z_log_energy_band4',\n",
       " 'watch_acceleration:relative_directions:avr_cosine_similarity_lag_range0',\n",
       " 'watch_acceleration:relative_directions:avr_cosine_similarity_lag_range1',\n",
       " 'watch_acceleration:relative_directions:avr_cosine_similarity_lag_range2',\n",
       " 'watch_acceleration:relative_directions:avr_cosine_similarity_lag_range3',\n",
       " 'watch_acceleration:relative_directions:avr_cosine_similarity_lag_range4',\n",
       " 'watch_heading:mean_cos',\n",
       " 'watch_heading:std_cos',\n",
       " 'watch_heading:mom3_cos',\n",
       " 'watch_heading:mom4_cos',\n",
       " 'watch_heading:mean_sin',\n",
       " 'watch_heading:std_sin',\n",
       " 'watch_heading:mom3_sin',\n",
       " 'watch_heading:mom4_sin',\n",
       " 'watch_heading:entropy_8bins',\n",
       " 'location:num_valid_updates',\n",
       " 'location:log_latitude_range',\n",
       " 'location:log_longitude_range',\n",
       " 'location:min_altitude',\n",
       " 'location:max_altitude',\n",
       " 'location:min_speed',\n",
       " 'location:max_speed',\n",
       " 'location:best_horizontal_accuracy',\n",
       " 'location:best_vertical_accuracy',\n",
       " 'location:diameter',\n",
       " 'location:log_diameter',\n",
       " 'location_quick_features:std_lat',\n",
       " 'location_quick_features:std_long',\n",
       " 'location_quick_features:lat_change',\n",
       " 'location_quick_features:long_change',\n",
       " 'location_quick_features:mean_abs_lat_deriv',\n",
       " 'location_quick_features:mean_abs_long_deriv',\n",
       " 'audio_naive:mfcc0:mean',\n",
       " 'audio_naive:mfcc1:mean',\n",
       " 'audio_naive:mfcc2:mean',\n",
       " 'audio_naive:mfcc3:mean',\n",
       " 'audio_naive:mfcc4:mean',\n",
       " 'audio_naive:mfcc5:mean',\n",
       " 'audio_naive:mfcc6:mean',\n",
       " 'audio_naive:mfcc7:mean',\n",
       " 'audio_naive:mfcc8:mean',\n",
       " 'audio_naive:mfcc9:mean',\n",
       " 'audio_naive:mfcc10:mean',\n",
       " 'audio_naive:mfcc11:mean',\n",
       " 'audio_naive:mfcc12:mean',\n",
       " 'audio_naive:mfcc0:std',\n",
       " 'audio_naive:mfcc1:std',\n",
       " 'audio_naive:mfcc2:std',\n",
       " 'audio_naive:mfcc3:std',\n",
       " 'audio_naive:mfcc4:std',\n",
       " 'audio_naive:mfcc5:std',\n",
       " 'audio_naive:mfcc6:std',\n",
       " 'audio_naive:mfcc7:std',\n",
       " 'audio_naive:mfcc8:std',\n",
       " 'audio_naive:mfcc9:std',\n",
       " 'audio_naive:mfcc10:std',\n",
       " 'audio_naive:mfcc11:std',\n",
       " 'audio_naive:mfcc12:std',\n",
       " 'audio_properties:max_abs_value',\n",
       " 'audio_properties:normalization_multiplier',\n",
       " 'discrete:app_state:is_active',\n",
       " 'discrete:app_state:is_inactive',\n",
       " 'discrete:app_state:is_background',\n",
       " 'discrete:app_state:missing',\n",
       " 'discrete:battery_plugged:is_ac',\n",
       " 'discrete:battery_plugged:is_usb',\n",
       " 'discrete:battery_plugged:is_wireless',\n",
       " 'discrete:battery_plugged:missing',\n",
       " 'discrete:battery_state:is_unknown',\n",
       " 'discrete:battery_state:is_unplugged',\n",
       " 'discrete:battery_state:is_not_charging',\n",
       " 'discrete:battery_state:is_discharging',\n",
       " 'discrete:battery_state:is_charging',\n",
       " 'discrete:battery_state:is_full',\n",
       " 'discrete:battery_state:missing',\n",
       " 'discrete:on_the_phone:is_False',\n",
       " 'discrete:on_the_phone:is_True',\n",
       " 'discrete:on_the_phone:missing',\n",
       " 'discrete:ringer_mode:is_normal',\n",
       " 'discrete:ringer_mode:is_silent_no_vibrate',\n",
       " 'discrete:ringer_mode:is_silent_with_vibrate',\n",
       " 'discrete:ringer_mode:missing',\n",
       " 'discrete:wifi_status:is_not_reachable',\n",
       " 'discrete:wifi_status:is_reachable_via_wifi',\n",
       " 'discrete:wifi_status:is_reachable_via_wwan',\n",
       " 'discrete:wifi_status:missing',\n",
       " 'lf_measurements:light',\n",
       " 'lf_measurements:pressure',\n",
       " 'lf_measurements:proximity_cm',\n",
       " 'lf_measurements:proximity',\n",
       " 'lf_measurements:relative_humidity',\n",
       " 'lf_measurements:battery_level',\n",
       " 'lf_measurements:screen_brightness',\n",
       " 'lf_measurements:temperature_ambient',\n",
       " 'discrete:time_of_day:between0and6',\n",
       " 'discrete:time_of_day:between3and9',\n",
       " 'discrete:time_of_day:between6and12',\n",
       " 'discrete:time_of_day:between9and15',\n",
       " 'discrete:time_of_day:between12and18',\n",
       " 'discrete:time_of_day:between15and21',\n",
       " 'discrete:time_of_day:between18and24',\n",
       " 'discrete:time_of_day:between21and3',\n",
       " 'label:LYING_DOWN',\n",
       " 'label:SITTING',\n",
       " 'label:FIX_walking',\n",
       " 'label:FIX_running',\n",
       " 'label:BICYCLING',\n",
       " 'label:SLEEPING',\n",
       " 'label:LAB_WORK',\n",
       " 'label:IN_CLASS',\n",
       " 'label:IN_A_MEETING',\n",
       " 'label:LOC_main_workplace',\n",
       " 'label:OR_indoors',\n",
       " 'label:OR_outside',\n",
       " 'label:IN_A_CAR',\n",
       " 'label:ON_A_BUS',\n",
       " 'label:DRIVE_-_I_M_THE_DRIVER',\n",
       " 'label:DRIVE_-_I_M_A_PASSENGER',\n",
       " 'label:LOC_home',\n",
       " 'label:FIX_restaurant',\n",
       " 'label:PHONE_IN_POCKET',\n",
       " 'label:OR_exercise',\n",
       " 'label:COOKING',\n",
       " 'label:SHOPPING',\n",
       " 'label:STROLLING',\n",
       " 'label:DRINKING__ALCOHOL_',\n",
       " 'label:BATHING_-_SHOWER',\n",
       " 'label:CLEANING',\n",
       " 'label:DOING_LAUNDRY',\n",
       " 'label:WASHING_DISHES',\n",
       " 'label:WATCHING_TV',\n",
       " 'label:SURFING_THE_INTERNET',\n",
       " 'label:AT_A_PARTY',\n",
       " 'label:AT_A_BAR',\n",
       " 'label:LOC_beach',\n",
       " 'label:SINGING',\n",
       " 'label:TALKING',\n",
       " 'label:COMPUTER_WORK',\n",
       " 'label:EATING',\n",
       " 'label:TOILET',\n",
       " 'label:GROOMING',\n",
       " 'label:DRESSING',\n",
       " 'label:AT_THE_GYM',\n",
       " 'label:STAIRS_-_GOING_UP',\n",
       " 'label:STAIRS_-_GOING_DOWN',\n",
       " 'label:ELEVATOR',\n",
       " 'label:OR_standing',\n",
       " 'label:AT_SCHOOL',\n",
       " 'label:PHONE_IN_HAND',\n",
       " 'label:PHONE_IN_BAG',\n",
       " 'label:PHONE_ON_TABLE',\n",
       " 'label:WITH_CO-WORKERS',\n",
       " 'label:WITH_FRIENDS',\n",
       " 'label_source']"
      ]
     },
     "execution_count": 7,
     "metadata": {},
     "output_type": "execute_result"
    }
   ],
   "source": [
    "df.columns.to_list()"
   ]
  },
  {
   "cell_type": "markdown",
   "metadata": {
    "id": "jz4Bil-GQOTH"
   },
   "source": [
    "Looking at the above we can safely assume that we can use columns starting with prefix 'label' to correspond to our potential target(y) values. Let us explore this further.\n"
   ]
  },
  {
   "cell_type": "markdown",
   "metadata": {},
   "source": [
    "## Feature Engineering and Selection"
   ]
  },
  {
   "cell_type": "code",
   "execution_count": 8,
   "metadata": {
    "id": "A8evFkQtRvmk"
   },
   "outputs": [],
   "source": [
    "label_columns = [col for col in df.columns if col.startswith('label:')]\n",
    "label_df = df[label_columns]"
   ]
  },
  {
   "cell_type": "code",
   "execution_count": 9,
   "metadata": {
    "colab": {
     "base_uri": "https://localhost:8080/",
     "height": 461
    },
    "id": "BemgCFIMRznW",
    "outputId": "c17fe7ac-a9a1-49dc-c959-4abfdecb4a2f"
   },
   "outputs": [
    {
     "data": {
      "text/html": [
       "<div>\n",
       "<style scoped>\n",
       "    .dataframe tbody tr th:only-of-type {\n",
       "        vertical-align: middle;\n",
       "    }\n",
       "\n",
       "    .dataframe tbody tr th {\n",
       "        vertical-align: top;\n",
       "    }\n",
       "\n",
       "    .dataframe thead th {\n",
       "        text-align: right;\n",
       "    }\n",
       "</style>\n",
       "<table border=\"1\" class=\"dataframe\">\n",
       "  <thead>\n",
       "    <tr style=\"text-align: right;\">\n",
       "      <th></th>\n",
       "      <th>label:LYING_DOWN</th>\n",
       "      <th>label:SITTING</th>\n",
       "      <th>label:FIX_walking</th>\n",
       "      <th>label:FIX_running</th>\n",
       "      <th>label:BICYCLING</th>\n",
       "      <th>label:SLEEPING</th>\n",
       "      <th>label:LAB_WORK</th>\n",
       "      <th>label:IN_CLASS</th>\n",
       "      <th>label:IN_A_MEETING</th>\n",
       "      <th>label:LOC_main_workplace</th>\n",
       "      <th>...</th>\n",
       "      <th>label:STAIRS_-_GOING_UP</th>\n",
       "      <th>label:STAIRS_-_GOING_DOWN</th>\n",
       "      <th>label:ELEVATOR</th>\n",
       "      <th>label:OR_standing</th>\n",
       "      <th>label:AT_SCHOOL</th>\n",
       "      <th>label:PHONE_IN_HAND</th>\n",
       "      <th>label:PHONE_IN_BAG</th>\n",
       "      <th>label:PHONE_ON_TABLE</th>\n",
       "      <th>label:WITH_CO-WORKERS</th>\n",
       "      <th>label:WITH_FRIENDS</th>\n",
       "    </tr>\n",
       "  </thead>\n",
       "  <tbody>\n",
       "    <tr>\n",
       "      <th>0</th>\n",
       "      <td>0.0</td>\n",
       "      <td>1.0</td>\n",
       "      <td>0.0</td>\n",
       "      <td>NaN</td>\n",
       "      <td>NaN</td>\n",
       "      <td>0.0</td>\n",
       "      <td>NaN</td>\n",
       "      <td>0.0</td>\n",
       "      <td>1.0</td>\n",
       "      <td>1.0</td>\n",
       "      <td>...</td>\n",
       "      <td>NaN</td>\n",
       "      <td>NaN</td>\n",
       "      <td>NaN</td>\n",
       "      <td>0.0</td>\n",
       "      <td>NaN</td>\n",
       "      <td>NaN</td>\n",
       "      <td>NaN</td>\n",
       "      <td>1.0</td>\n",
       "      <td>1.0</td>\n",
       "      <td>NaN</td>\n",
       "    </tr>\n",
       "    <tr>\n",
       "      <th>1</th>\n",
       "      <td>0.0</td>\n",
       "      <td>1.0</td>\n",
       "      <td>0.0</td>\n",
       "      <td>NaN</td>\n",
       "      <td>NaN</td>\n",
       "      <td>0.0</td>\n",
       "      <td>NaN</td>\n",
       "      <td>0.0</td>\n",
       "      <td>1.0</td>\n",
       "      <td>1.0</td>\n",
       "      <td>...</td>\n",
       "      <td>NaN</td>\n",
       "      <td>NaN</td>\n",
       "      <td>NaN</td>\n",
       "      <td>0.0</td>\n",
       "      <td>NaN</td>\n",
       "      <td>NaN</td>\n",
       "      <td>NaN</td>\n",
       "      <td>1.0</td>\n",
       "      <td>1.0</td>\n",
       "      <td>NaN</td>\n",
       "    </tr>\n",
       "    <tr>\n",
       "      <th>2</th>\n",
       "      <td>0.0</td>\n",
       "      <td>1.0</td>\n",
       "      <td>0.0</td>\n",
       "      <td>NaN</td>\n",
       "      <td>NaN</td>\n",
       "      <td>0.0</td>\n",
       "      <td>NaN</td>\n",
       "      <td>0.0</td>\n",
       "      <td>1.0</td>\n",
       "      <td>1.0</td>\n",
       "      <td>...</td>\n",
       "      <td>NaN</td>\n",
       "      <td>NaN</td>\n",
       "      <td>NaN</td>\n",
       "      <td>0.0</td>\n",
       "      <td>NaN</td>\n",
       "      <td>NaN</td>\n",
       "      <td>NaN</td>\n",
       "      <td>1.0</td>\n",
       "      <td>1.0</td>\n",
       "      <td>NaN</td>\n",
       "    </tr>\n",
       "    <tr>\n",
       "      <th>3</th>\n",
       "      <td>0.0</td>\n",
       "      <td>1.0</td>\n",
       "      <td>0.0</td>\n",
       "      <td>NaN</td>\n",
       "      <td>NaN</td>\n",
       "      <td>0.0</td>\n",
       "      <td>NaN</td>\n",
       "      <td>0.0</td>\n",
       "      <td>1.0</td>\n",
       "      <td>1.0</td>\n",
       "      <td>...</td>\n",
       "      <td>NaN</td>\n",
       "      <td>NaN</td>\n",
       "      <td>NaN</td>\n",
       "      <td>0.0</td>\n",
       "      <td>NaN</td>\n",
       "      <td>NaN</td>\n",
       "      <td>NaN</td>\n",
       "      <td>1.0</td>\n",
       "      <td>1.0</td>\n",
       "      <td>NaN</td>\n",
       "    </tr>\n",
       "    <tr>\n",
       "      <th>4</th>\n",
       "      <td>0.0</td>\n",
       "      <td>1.0</td>\n",
       "      <td>0.0</td>\n",
       "      <td>NaN</td>\n",
       "      <td>NaN</td>\n",
       "      <td>0.0</td>\n",
       "      <td>NaN</td>\n",
       "      <td>0.0</td>\n",
       "      <td>1.0</td>\n",
       "      <td>1.0</td>\n",
       "      <td>...</td>\n",
       "      <td>NaN</td>\n",
       "      <td>NaN</td>\n",
       "      <td>NaN</td>\n",
       "      <td>0.0</td>\n",
       "      <td>NaN</td>\n",
       "      <td>NaN</td>\n",
       "      <td>NaN</td>\n",
       "      <td>1.0</td>\n",
       "      <td>1.0</td>\n",
       "      <td>NaN</td>\n",
       "    </tr>\n",
       "    <tr>\n",
       "      <th>...</th>\n",
       "      <td>...</td>\n",
       "      <td>...</td>\n",
       "      <td>...</td>\n",
       "      <td>...</td>\n",
       "      <td>...</td>\n",
       "      <td>...</td>\n",
       "      <td>...</td>\n",
       "      <td>...</td>\n",
       "      <td>...</td>\n",
       "      <td>...</td>\n",
       "      <td>...</td>\n",
       "      <td>...</td>\n",
       "      <td>...</td>\n",
       "      <td>...</td>\n",
       "      <td>...</td>\n",
       "      <td>...</td>\n",
       "      <td>...</td>\n",
       "      <td>...</td>\n",
       "      <td>...</td>\n",
       "      <td>...</td>\n",
       "      <td>...</td>\n",
       "    </tr>\n",
       "    <tr>\n",
       "      <th>377341</th>\n",
       "      <td>NaN</td>\n",
       "      <td>NaN</td>\n",
       "      <td>NaN</td>\n",
       "      <td>NaN</td>\n",
       "      <td>NaN</td>\n",
       "      <td>NaN</td>\n",
       "      <td>NaN</td>\n",
       "      <td>NaN</td>\n",
       "      <td>NaN</td>\n",
       "      <td>NaN</td>\n",
       "      <td>...</td>\n",
       "      <td>NaN</td>\n",
       "      <td>NaN</td>\n",
       "      <td>NaN</td>\n",
       "      <td>NaN</td>\n",
       "      <td>NaN</td>\n",
       "      <td>NaN</td>\n",
       "      <td>NaN</td>\n",
       "      <td>NaN</td>\n",
       "      <td>NaN</td>\n",
       "      <td>NaN</td>\n",
       "    </tr>\n",
       "    <tr>\n",
       "      <th>377342</th>\n",
       "      <td>NaN</td>\n",
       "      <td>NaN</td>\n",
       "      <td>NaN</td>\n",
       "      <td>NaN</td>\n",
       "      <td>NaN</td>\n",
       "      <td>NaN</td>\n",
       "      <td>NaN</td>\n",
       "      <td>NaN</td>\n",
       "      <td>NaN</td>\n",
       "      <td>NaN</td>\n",
       "      <td>...</td>\n",
       "      <td>NaN</td>\n",
       "      <td>NaN</td>\n",
       "      <td>NaN</td>\n",
       "      <td>NaN</td>\n",
       "      <td>NaN</td>\n",
       "      <td>NaN</td>\n",
       "      <td>NaN</td>\n",
       "      <td>NaN</td>\n",
       "      <td>NaN</td>\n",
       "      <td>NaN</td>\n",
       "    </tr>\n",
       "    <tr>\n",
       "      <th>377343</th>\n",
       "      <td>NaN</td>\n",
       "      <td>NaN</td>\n",
       "      <td>NaN</td>\n",
       "      <td>NaN</td>\n",
       "      <td>NaN</td>\n",
       "      <td>NaN</td>\n",
       "      <td>NaN</td>\n",
       "      <td>NaN</td>\n",
       "      <td>NaN</td>\n",
       "      <td>NaN</td>\n",
       "      <td>...</td>\n",
       "      <td>NaN</td>\n",
       "      <td>NaN</td>\n",
       "      <td>NaN</td>\n",
       "      <td>NaN</td>\n",
       "      <td>NaN</td>\n",
       "      <td>NaN</td>\n",
       "      <td>NaN</td>\n",
       "      <td>NaN</td>\n",
       "      <td>NaN</td>\n",
       "      <td>NaN</td>\n",
       "    </tr>\n",
       "    <tr>\n",
       "      <th>377344</th>\n",
       "      <td>NaN</td>\n",
       "      <td>NaN</td>\n",
       "      <td>NaN</td>\n",
       "      <td>NaN</td>\n",
       "      <td>NaN</td>\n",
       "      <td>NaN</td>\n",
       "      <td>NaN</td>\n",
       "      <td>NaN</td>\n",
       "      <td>NaN</td>\n",
       "      <td>NaN</td>\n",
       "      <td>...</td>\n",
       "      <td>NaN</td>\n",
       "      <td>NaN</td>\n",
       "      <td>NaN</td>\n",
       "      <td>NaN</td>\n",
       "      <td>NaN</td>\n",
       "      <td>NaN</td>\n",
       "      <td>NaN</td>\n",
       "      <td>NaN</td>\n",
       "      <td>NaN</td>\n",
       "      <td>NaN</td>\n",
       "    </tr>\n",
       "    <tr>\n",
       "      <th>377345</th>\n",
       "      <td>NaN</td>\n",
       "      <td>NaN</td>\n",
       "      <td>NaN</td>\n",
       "      <td>NaN</td>\n",
       "      <td>NaN</td>\n",
       "      <td>NaN</td>\n",
       "      <td>NaN</td>\n",
       "      <td>NaN</td>\n",
       "      <td>NaN</td>\n",
       "      <td>NaN</td>\n",
       "      <td>...</td>\n",
       "      <td>NaN</td>\n",
       "      <td>NaN</td>\n",
       "      <td>NaN</td>\n",
       "      <td>NaN</td>\n",
       "      <td>NaN</td>\n",
       "      <td>NaN</td>\n",
       "      <td>NaN</td>\n",
       "      <td>NaN</td>\n",
       "      <td>NaN</td>\n",
       "      <td>NaN</td>\n",
       "    </tr>\n",
       "  </tbody>\n",
       "</table>\n",
       "<p>377346 rows × 51 columns</p>\n",
       "</div>"
      ],
      "text/plain": [
       "        label:LYING_DOWN  label:SITTING  label:FIX_walking  label:FIX_running  \\\n",
       "0                    0.0            1.0                0.0                NaN   \n",
       "1                    0.0            1.0                0.0                NaN   \n",
       "2                    0.0            1.0                0.0                NaN   \n",
       "3                    0.0            1.0                0.0                NaN   \n",
       "4                    0.0            1.0                0.0                NaN   \n",
       "...                  ...            ...                ...                ...   \n",
       "377341               NaN            NaN                NaN                NaN   \n",
       "377342               NaN            NaN                NaN                NaN   \n",
       "377343               NaN            NaN                NaN                NaN   \n",
       "377344               NaN            NaN                NaN                NaN   \n",
       "377345               NaN            NaN                NaN                NaN   \n",
       "\n",
       "        label:BICYCLING  label:SLEEPING  label:LAB_WORK  label:IN_CLASS  \\\n",
       "0                   NaN             0.0             NaN             0.0   \n",
       "1                   NaN             0.0             NaN             0.0   \n",
       "2                   NaN             0.0             NaN             0.0   \n",
       "3                   NaN             0.0             NaN             0.0   \n",
       "4                   NaN             0.0             NaN             0.0   \n",
       "...                 ...             ...             ...             ...   \n",
       "377341              NaN             NaN             NaN             NaN   \n",
       "377342              NaN             NaN             NaN             NaN   \n",
       "377343              NaN             NaN             NaN             NaN   \n",
       "377344              NaN             NaN             NaN             NaN   \n",
       "377345              NaN             NaN             NaN             NaN   \n",
       "\n",
       "        label:IN_A_MEETING  label:LOC_main_workplace  ...  \\\n",
       "0                      1.0                       1.0  ...   \n",
       "1                      1.0                       1.0  ...   \n",
       "2                      1.0                       1.0  ...   \n",
       "3                      1.0                       1.0  ...   \n",
       "4                      1.0                       1.0  ...   \n",
       "...                    ...                       ...  ...   \n",
       "377341                 NaN                       NaN  ...   \n",
       "377342                 NaN                       NaN  ...   \n",
       "377343                 NaN                       NaN  ...   \n",
       "377344                 NaN                       NaN  ...   \n",
       "377345                 NaN                       NaN  ...   \n",
       "\n",
       "        label:STAIRS_-_GOING_UP  label:STAIRS_-_GOING_DOWN  label:ELEVATOR  \\\n",
       "0                           NaN                        NaN             NaN   \n",
       "1                           NaN                        NaN             NaN   \n",
       "2                           NaN                        NaN             NaN   \n",
       "3                           NaN                        NaN             NaN   \n",
       "4                           NaN                        NaN             NaN   \n",
       "...                         ...                        ...             ...   \n",
       "377341                      NaN                        NaN             NaN   \n",
       "377342                      NaN                        NaN             NaN   \n",
       "377343                      NaN                        NaN             NaN   \n",
       "377344                      NaN                        NaN             NaN   \n",
       "377345                      NaN                        NaN             NaN   \n",
       "\n",
       "        label:OR_standing  label:AT_SCHOOL  label:PHONE_IN_HAND  \\\n",
       "0                     0.0              NaN                  NaN   \n",
       "1                     0.0              NaN                  NaN   \n",
       "2                     0.0              NaN                  NaN   \n",
       "3                     0.0              NaN                  NaN   \n",
       "4                     0.0              NaN                  NaN   \n",
       "...                   ...              ...                  ...   \n",
       "377341                NaN              NaN                  NaN   \n",
       "377342                NaN              NaN                  NaN   \n",
       "377343                NaN              NaN                  NaN   \n",
       "377344                NaN              NaN                  NaN   \n",
       "377345                NaN              NaN                  NaN   \n",
       "\n",
       "        label:PHONE_IN_BAG  label:PHONE_ON_TABLE  label:WITH_CO-WORKERS  \\\n",
       "0                      NaN                   1.0                    1.0   \n",
       "1                      NaN                   1.0                    1.0   \n",
       "2                      NaN                   1.0                    1.0   \n",
       "3                      NaN                   1.0                    1.0   \n",
       "4                      NaN                   1.0                    1.0   \n",
       "...                    ...                   ...                    ...   \n",
       "377341                 NaN                   NaN                    NaN   \n",
       "377342                 NaN                   NaN                    NaN   \n",
       "377343                 NaN                   NaN                    NaN   \n",
       "377344                 NaN                   NaN                    NaN   \n",
       "377345                 NaN                   NaN                    NaN   \n",
       "\n",
       "        label:WITH_FRIENDS  \n",
       "0                      NaN  \n",
       "1                      NaN  \n",
       "2                      NaN  \n",
       "3                      NaN  \n",
       "4                      NaN  \n",
       "...                    ...  \n",
       "377341                 NaN  \n",
       "377342                 NaN  \n",
       "377343                 NaN  \n",
       "377344                 NaN  \n",
       "377345                 NaN  \n",
       "\n",
       "[377346 rows x 51 columns]"
      ]
     },
     "execution_count": 9,
     "metadata": {},
     "output_type": "execute_result"
    }
   ],
   "source": [
    "label_df"
   ]
  },
  {
   "cell_type": "markdown",
   "metadata": {
    "id": "xDCb-goFSiv-"
   },
   "source": [
    "Looking at the columns above our assumption seems to be right. We see that the columns with prefix \"label:\" are classified into 1's, 0's and NaN.\n",
    "\n",
    "Let us calculate the pecentage of missing values which will help us understand the quality of our target variable."
   ]
  },
  {
   "cell_type": "code",
   "execution_count": 10,
   "metadata": {
    "colab": {
     "base_uri": "https://localhost:8080/"
    },
    "id": "PQiAx4lbShN4",
    "outputId": "2e409ab4-65b9-4d90-ae47-0e267d2a7158"
   },
   "outputs": [
    {
     "data": {
      "text/plain": [
       "label:LOC_home                    5.833373\n",
       "label:SITTING                    18.749901\n",
       "label:FIX_walking                18.749901\n",
       "label:OR_standing                18.749901\n",
       "label:LYING_DOWN                 19.510741\n",
       "label:EATING                     21.429934\n",
       "label:SLEEPING                   24.401478\n",
       "label:TALKING                    25.917858\n",
       "label:AT_SCHOOL                  31.319267\n",
       "label:OR_exercise                36.176082\n",
       "label:COMPUTER_WORK              37.044781\n",
       "label:IN_A_MEETING               38.726527\n",
       "label:TOILET                     41.625723\n",
       "label:COOKING                    44.521474\n",
       "label:DRESSING                   44.902556\n",
       "label:LOC_main_workplace         46.540575\n",
       "label:BATHING_-_SHOWER           46.701436\n",
       "label:GROOMING                   47.316256\n",
       "label:OR_indoors                 47.844684\n",
       "label:WATCHING_TV                47.964998\n",
       "label:SURFING_THE_INTERNET       48.937315\n",
       "label:IN_A_CAR                   53.704028\n",
       "label:ON_A_BUS                   55.205037\n",
       "label:WITH_FRIENDS               56.163839\n",
       "label:PHONE_ON_TABLE             56.956480\n",
       "label:DRIVE_-_I_M_THE_DRIVER     56.998617\n",
       "label:CLEANING                   57.752302\n",
       "label:FIX_restaurant             58.239388\n",
       "label:OR_outside                 59.851701\n",
       "label:PHONE_IN_HAND              62.447462\n",
       "label:FIX_running                62.668214\n",
       "label:SHOPPING                   63.218638\n",
       "label:WASHING_DISHES             63.833193\n",
       "label:BICYCLING                  64.175319\n",
       "label:PHONE_IN_POCKET            64.392361\n",
       "label:DRIVE_-_I_M_A_PASSENGER    65.260795\n",
       "label:WITH_CO-WORKERS            70.302057\n",
       "label:IN_CLASS                   71.097348\n",
       "label:STAIRS_-_GOING_UP          74.922485\n",
       "label:STAIRS_-_GOING_DOWN        74.979197\n",
       "label:PHONE_IN_BAG               75.496759\n",
       "label:DOING_LAUNDRY              80.396771\n",
       "label:ELEVATOR                   81.132435\n",
       "label:DRINKING__ALCOHOL_         81.241884\n",
       "label:LOC_beach                  84.723834\n",
       "label:AT_A_PARTY                 85.540326\n",
       "label:STROLLING                  85.752863\n",
       "label:LAB_WORK                   86.909892\n",
       "label:AT_THE_GYM                 88.235466\n",
       "label:AT_A_BAR                   91.196409\n",
       "label:SINGING                    93.343775\n",
       "dtype: float64"
      ]
     },
     "execution_count": 10,
     "metadata": {},
     "output_type": "execute_result"
    }
   ],
   "source": [
    "# Calculating the percentage of missing values for each 'label:' column\n",
    "missing_percentages = df[label_columns].isna().sum() / len(df) * 100\n",
    "\n",
    "# Sorting the percentages from lowest to highest\n",
    "sorted_missing_percentages = missing_percentages.sort_values()\n",
    "sorted_missing_percentages"
   ]
  },
  {
   "cell_type": "markdown",
   "metadata": {
    "id": "jDN7QAk8Tt1k"
   },
   "source": [
    "We see that our featureset has a lot of missing values. Therefore we will discard all those labels with 30% missing values and only focus on labels with fewer percentage of missing values.\n",
    "\n",
    "Let us focus on predicting the label:SITING as it has fewer number of missing data."
   ]
  },
  {
   "cell_type": "code",
   "execution_count": 11,
   "metadata": {
    "colab": {
     "base_uri": "https://localhost:8080/",
     "height": 982
    },
    "id": "w6_-DBZ7MG59",
    "outputId": "e63d3608-dcd7-40df-9bda-414fe0d21786"
   },
   "outputs": [
    {
     "data": {
      "text/html": [
       "<div>\n",
       "<style scoped>\n",
       "    .dataframe tbody tr th:only-of-type {\n",
       "        vertical-align: middle;\n",
       "    }\n",
       "\n",
       "    .dataframe tbody tr th {\n",
       "        vertical-align: top;\n",
       "    }\n",
       "\n",
       "    .dataframe thead th {\n",
       "        text-align: right;\n",
       "    }\n",
       "</style>\n",
       "<table border=\"1\" class=\"dataframe\">\n",
       "  <thead>\n",
       "    <tr style=\"text-align: right;\">\n",
       "      <th></th>\n",
       "      <th>timestamp</th>\n",
       "      <th>raw_acc:magnitude_stats:mean</th>\n",
       "      <th>raw_acc:magnitude_stats:std</th>\n",
       "      <th>raw_acc:magnitude_stats:moment3</th>\n",
       "      <th>raw_acc:magnitude_stats:moment4</th>\n",
       "      <th>raw_acc:magnitude_stats:percentile25</th>\n",
       "      <th>raw_acc:magnitude_stats:percentile50</th>\n",
       "      <th>raw_acc:magnitude_stats:percentile75</th>\n",
       "      <th>raw_acc:magnitude_stats:value_entropy</th>\n",
       "      <th>raw_acc:magnitude_stats:time_entropy</th>\n",
       "      <th>...</th>\n",
       "      <th>label:STAIRS_-_GOING_DOWN</th>\n",
       "      <th>label:ELEVATOR</th>\n",
       "      <th>label:OR_standing</th>\n",
       "      <th>label:AT_SCHOOL</th>\n",
       "      <th>label:PHONE_IN_HAND</th>\n",
       "      <th>label:PHONE_IN_BAG</th>\n",
       "      <th>label:PHONE_ON_TABLE</th>\n",
       "      <th>label:WITH_CO-WORKERS</th>\n",
       "      <th>label:WITH_FRIENDS</th>\n",
       "      <th>label_source</th>\n",
       "    </tr>\n",
       "  </thead>\n",
       "  <tbody>\n",
       "    <tr>\n",
       "      <th>0</th>\n",
       "      <td>1444079161</td>\n",
       "      <td>0.996815</td>\n",
       "      <td>0.003529</td>\n",
       "      <td>-0.002786</td>\n",
       "      <td>0.006496</td>\n",
       "      <td>0.995203</td>\n",
       "      <td>0.996825</td>\n",
       "      <td>0.998502</td>\n",
       "      <td>1.748756</td>\n",
       "      <td>6.684605</td>\n",
       "      <td>...</td>\n",
       "      <td>NaN</td>\n",
       "      <td>NaN</td>\n",
       "      <td>0.0</td>\n",
       "      <td>NaN</td>\n",
       "      <td>NaN</td>\n",
       "      <td>NaN</td>\n",
       "      <td>1.0</td>\n",
       "      <td>1.0</td>\n",
       "      <td>NaN</td>\n",
       "      <td>2</td>\n",
       "    </tr>\n",
       "    <tr>\n",
       "      <th>1</th>\n",
       "      <td>1444079221</td>\n",
       "      <td>0.996864</td>\n",
       "      <td>0.004172</td>\n",
       "      <td>-0.003110</td>\n",
       "      <td>0.007050</td>\n",
       "      <td>0.994957</td>\n",
       "      <td>0.996981</td>\n",
       "      <td>0.998766</td>\n",
       "      <td>1.935573</td>\n",
       "      <td>6.684603</td>\n",
       "      <td>...</td>\n",
       "      <td>NaN</td>\n",
       "      <td>NaN</td>\n",
       "      <td>0.0</td>\n",
       "      <td>NaN</td>\n",
       "      <td>NaN</td>\n",
       "      <td>NaN</td>\n",
       "      <td>1.0</td>\n",
       "      <td>1.0</td>\n",
       "      <td>NaN</td>\n",
       "      <td>2</td>\n",
       "    </tr>\n",
       "    <tr>\n",
       "      <th>2</th>\n",
       "      <td>1444079281</td>\n",
       "      <td>0.996825</td>\n",
       "      <td>0.003667</td>\n",
       "      <td>0.003094</td>\n",
       "      <td>0.006076</td>\n",
       "      <td>0.994797</td>\n",
       "      <td>0.996614</td>\n",
       "      <td>0.998704</td>\n",
       "      <td>2.031780</td>\n",
       "      <td>6.684605</td>\n",
       "      <td>...</td>\n",
       "      <td>NaN</td>\n",
       "      <td>NaN</td>\n",
       "      <td>0.0</td>\n",
       "      <td>NaN</td>\n",
       "      <td>NaN</td>\n",
       "      <td>NaN</td>\n",
       "      <td>1.0</td>\n",
       "      <td>1.0</td>\n",
       "      <td>NaN</td>\n",
       "      <td>2</td>\n",
       "    </tr>\n",
       "    <tr>\n",
       "      <th>3</th>\n",
       "      <td>1444079341</td>\n",
       "      <td>0.996874</td>\n",
       "      <td>0.003541</td>\n",
       "      <td>0.000626</td>\n",
       "      <td>0.006059</td>\n",
       "      <td>0.995050</td>\n",
       "      <td>0.996907</td>\n",
       "      <td>0.998690</td>\n",
       "      <td>1.865318</td>\n",
       "      <td>6.684605</td>\n",
       "      <td>...</td>\n",
       "      <td>NaN</td>\n",
       "      <td>NaN</td>\n",
       "      <td>0.0</td>\n",
       "      <td>NaN</td>\n",
       "      <td>NaN</td>\n",
       "      <td>NaN</td>\n",
       "      <td>1.0</td>\n",
       "      <td>1.0</td>\n",
       "      <td>NaN</td>\n",
       "      <td>2</td>\n",
       "    </tr>\n",
       "    <tr>\n",
       "      <th>4</th>\n",
       "      <td>1444079431</td>\n",
       "      <td>0.997371</td>\n",
       "      <td>0.037653</td>\n",
       "      <td>0.043389</td>\n",
       "      <td>0.102332</td>\n",
       "      <td>0.995548</td>\n",
       "      <td>0.996860</td>\n",
       "      <td>0.998205</td>\n",
       "      <td>0.460806</td>\n",
       "      <td>6.683904</td>\n",
       "      <td>...</td>\n",
       "      <td>NaN</td>\n",
       "      <td>NaN</td>\n",
       "      <td>0.0</td>\n",
       "      <td>NaN</td>\n",
       "      <td>NaN</td>\n",
       "      <td>NaN</td>\n",
       "      <td>1.0</td>\n",
       "      <td>1.0</td>\n",
       "      <td>NaN</td>\n",
       "      <td>2</td>\n",
       "    </tr>\n",
       "    <tr>\n",
       "      <th>...</th>\n",
       "      <td>...</td>\n",
       "      <td>...</td>\n",
       "      <td>...</td>\n",
       "      <td>...</td>\n",
       "      <td>...</td>\n",
       "      <td>...</td>\n",
       "      <td>...</td>\n",
       "      <td>...</td>\n",
       "      <td>...</td>\n",
       "      <td>...</td>\n",
       "      <td>...</td>\n",
       "      <td>...</td>\n",
       "      <td>...</td>\n",
       "      <td>...</td>\n",
       "      <td>...</td>\n",
       "      <td>...</td>\n",
       "      <td>...</td>\n",
       "      <td>...</td>\n",
       "      <td>...</td>\n",
       "      <td>...</td>\n",
       "      <td>...</td>\n",
       "    </tr>\n",
       "    <tr>\n",
       "      <th>377341</th>\n",
       "      <td>1444234779</td>\n",
       "      <td>1.007886</td>\n",
       "      <td>0.009355</td>\n",
       "      <td>0.012618</td>\n",
       "      <td>0.030905</td>\n",
       "      <td>1.005121</td>\n",
       "      <td>1.008012</td>\n",
       "      <td>1.010024</td>\n",
       "      <td>0.423861</td>\n",
       "      <td>6.684569</td>\n",
       "      <td>...</td>\n",
       "      <td>NaN</td>\n",
       "      <td>NaN</td>\n",
       "      <td>NaN</td>\n",
       "      <td>NaN</td>\n",
       "      <td>NaN</td>\n",
       "      <td>NaN</td>\n",
       "      <td>NaN</td>\n",
       "      <td>NaN</td>\n",
       "      <td>NaN</td>\n",
       "      <td>-1</td>\n",
       "    </tr>\n",
       "    <tr>\n",
       "      <th>377342</th>\n",
       "      <td>1444234839</td>\n",
       "      <td>1.000400</td>\n",
       "      <td>0.009068</td>\n",
       "      <td>-0.019631</td>\n",
       "      <td>0.032762</td>\n",
       "      <td>0.998186</td>\n",
       "      <td>1.001128</td>\n",
       "      <td>1.003113</td>\n",
       "      <td>0.768680</td>\n",
       "      <td>6.684569</td>\n",
       "      <td>...</td>\n",
       "      <td>NaN</td>\n",
       "      <td>NaN</td>\n",
       "      <td>NaN</td>\n",
       "      <td>NaN</td>\n",
       "      <td>NaN</td>\n",
       "      <td>NaN</td>\n",
       "      <td>NaN</td>\n",
       "      <td>NaN</td>\n",
       "      <td>NaN</td>\n",
       "      <td>-1</td>\n",
       "    </tr>\n",
       "    <tr>\n",
       "      <th>377343</th>\n",
       "      <td>1444234899</td>\n",
       "      <td>1.026223</td>\n",
       "      <td>0.195112</td>\n",
       "      <td>0.255240</td>\n",
       "      <td>0.379733</td>\n",
       "      <td>0.983684</td>\n",
       "      <td>1.000173</td>\n",
       "      <td>1.030232</td>\n",
       "      <td>1.484173</td>\n",
       "      <td>6.668006</td>\n",
       "      <td>...</td>\n",
       "      <td>NaN</td>\n",
       "      <td>NaN</td>\n",
       "      <td>NaN</td>\n",
       "      <td>NaN</td>\n",
       "      <td>NaN</td>\n",
       "      <td>NaN</td>\n",
       "      <td>NaN</td>\n",
       "      <td>NaN</td>\n",
       "      <td>NaN</td>\n",
       "      <td>-1</td>\n",
       "    </tr>\n",
       "    <tr>\n",
       "      <th>377344</th>\n",
       "      <td>1444234959</td>\n",
       "      <td>1.123513</td>\n",
       "      <td>0.273450</td>\n",
       "      <td>0.312818</td>\n",
       "      <td>0.480787</td>\n",
       "      <td>0.966631</td>\n",
       "      <td>1.051232</td>\n",
       "      <td>1.229708</td>\n",
       "      <td>1.808524</td>\n",
       "      <td>6.656521</td>\n",
       "      <td>...</td>\n",
       "      <td>NaN</td>\n",
       "      <td>NaN</td>\n",
       "      <td>NaN</td>\n",
       "      <td>NaN</td>\n",
       "      <td>NaN</td>\n",
       "      <td>NaN</td>\n",
       "      <td>NaN</td>\n",
       "      <td>NaN</td>\n",
       "      <td>NaN</td>\n",
       "      <td>-1</td>\n",
       "    </tr>\n",
       "    <tr>\n",
       "      <th>377345</th>\n",
       "      <td>1444235019</td>\n",
       "      <td>1.020624</td>\n",
       "      <td>0.135672</td>\n",
       "      <td>0.104091</td>\n",
       "      <td>0.185868</td>\n",
       "      <td>0.915936</td>\n",
       "      <td>1.018161</td>\n",
       "      <td>1.115126</td>\n",
       "      <td>2.402200</td>\n",
       "      <td>6.675872</td>\n",
       "      <td>...</td>\n",
       "      <td>NaN</td>\n",
       "      <td>NaN</td>\n",
       "      <td>NaN</td>\n",
       "      <td>NaN</td>\n",
       "      <td>NaN</td>\n",
       "      <td>NaN</td>\n",
       "      <td>NaN</td>\n",
       "      <td>NaN</td>\n",
       "      <td>NaN</td>\n",
       "      <td>-1</td>\n",
       "    </tr>\n",
       "  </tbody>\n",
       "</table>\n",
       "<p>377346 rows × 278 columns</p>\n",
       "</div>"
      ],
      "text/plain": [
       "         timestamp  raw_acc:magnitude_stats:mean  raw_acc:magnitude_stats:std  \\\n",
       "0       1444079161                      0.996815                     0.003529   \n",
       "1       1444079221                      0.996864                     0.004172   \n",
       "2       1444079281                      0.996825                     0.003667   \n",
       "3       1444079341                      0.996874                     0.003541   \n",
       "4       1444079431                      0.997371                     0.037653   \n",
       "...            ...                           ...                          ...   \n",
       "377341  1444234779                      1.007886                     0.009355   \n",
       "377342  1444234839                      1.000400                     0.009068   \n",
       "377343  1444234899                      1.026223                     0.195112   \n",
       "377344  1444234959                      1.123513                     0.273450   \n",
       "377345  1444235019                      1.020624                     0.135672   \n",
       "\n",
       "        raw_acc:magnitude_stats:moment3  raw_acc:magnitude_stats:moment4  \\\n",
       "0                             -0.002786                         0.006496   \n",
       "1                             -0.003110                         0.007050   \n",
       "2                              0.003094                         0.006076   \n",
       "3                              0.000626                         0.006059   \n",
       "4                              0.043389                         0.102332   \n",
       "...                                 ...                              ...   \n",
       "377341                         0.012618                         0.030905   \n",
       "377342                        -0.019631                         0.032762   \n",
       "377343                         0.255240                         0.379733   \n",
       "377344                         0.312818                         0.480787   \n",
       "377345                         0.104091                         0.185868   \n",
       "\n",
       "        raw_acc:magnitude_stats:percentile25  \\\n",
       "0                                   0.995203   \n",
       "1                                   0.994957   \n",
       "2                                   0.994797   \n",
       "3                                   0.995050   \n",
       "4                                   0.995548   \n",
       "...                                      ...   \n",
       "377341                              1.005121   \n",
       "377342                              0.998186   \n",
       "377343                              0.983684   \n",
       "377344                              0.966631   \n",
       "377345                              0.915936   \n",
       "\n",
       "        raw_acc:magnitude_stats:percentile50  \\\n",
       "0                                   0.996825   \n",
       "1                                   0.996981   \n",
       "2                                   0.996614   \n",
       "3                                   0.996907   \n",
       "4                                   0.996860   \n",
       "...                                      ...   \n",
       "377341                              1.008012   \n",
       "377342                              1.001128   \n",
       "377343                              1.000173   \n",
       "377344                              1.051232   \n",
       "377345                              1.018161   \n",
       "\n",
       "        raw_acc:magnitude_stats:percentile75  \\\n",
       "0                                   0.998502   \n",
       "1                                   0.998766   \n",
       "2                                   0.998704   \n",
       "3                                   0.998690   \n",
       "4                                   0.998205   \n",
       "...                                      ...   \n",
       "377341                              1.010024   \n",
       "377342                              1.003113   \n",
       "377343                              1.030232   \n",
       "377344                              1.229708   \n",
       "377345                              1.115126   \n",
       "\n",
       "        raw_acc:magnitude_stats:value_entropy  \\\n",
       "0                                    1.748756   \n",
       "1                                    1.935573   \n",
       "2                                    2.031780   \n",
       "3                                    1.865318   \n",
       "4                                    0.460806   \n",
       "...                                       ...   \n",
       "377341                               0.423861   \n",
       "377342                               0.768680   \n",
       "377343                               1.484173   \n",
       "377344                               1.808524   \n",
       "377345                               2.402200   \n",
       "\n",
       "        raw_acc:magnitude_stats:time_entropy  ...  label:STAIRS_-_GOING_DOWN  \\\n",
       "0                                   6.684605  ...                        NaN   \n",
       "1                                   6.684603  ...                        NaN   \n",
       "2                                   6.684605  ...                        NaN   \n",
       "3                                   6.684605  ...                        NaN   \n",
       "4                                   6.683904  ...                        NaN   \n",
       "...                                      ...  ...                        ...   \n",
       "377341                              6.684569  ...                        NaN   \n",
       "377342                              6.684569  ...                        NaN   \n",
       "377343                              6.668006  ...                        NaN   \n",
       "377344                              6.656521  ...                        NaN   \n",
       "377345                              6.675872  ...                        NaN   \n",
       "\n",
       "        label:ELEVATOR  label:OR_standing  label:AT_SCHOOL  \\\n",
       "0                  NaN                0.0              NaN   \n",
       "1                  NaN                0.0              NaN   \n",
       "2                  NaN                0.0              NaN   \n",
       "3                  NaN                0.0              NaN   \n",
       "4                  NaN                0.0              NaN   \n",
       "...                ...                ...              ...   \n",
       "377341             NaN                NaN              NaN   \n",
       "377342             NaN                NaN              NaN   \n",
       "377343             NaN                NaN              NaN   \n",
       "377344             NaN                NaN              NaN   \n",
       "377345             NaN                NaN              NaN   \n",
       "\n",
       "        label:PHONE_IN_HAND  label:PHONE_IN_BAG  label:PHONE_ON_TABLE  \\\n",
       "0                       NaN                 NaN                   1.0   \n",
       "1                       NaN                 NaN                   1.0   \n",
       "2                       NaN                 NaN                   1.0   \n",
       "3                       NaN                 NaN                   1.0   \n",
       "4                       NaN                 NaN                   1.0   \n",
       "...                     ...                 ...                   ...   \n",
       "377341                  NaN                 NaN                   NaN   \n",
       "377342                  NaN                 NaN                   NaN   \n",
       "377343                  NaN                 NaN                   NaN   \n",
       "377344                  NaN                 NaN                   NaN   \n",
       "377345                  NaN                 NaN                   NaN   \n",
       "\n",
       "        label:WITH_CO-WORKERS  label:WITH_FRIENDS  label_source  \n",
       "0                         1.0                 NaN             2  \n",
       "1                         1.0                 NaN             2  \n",
       "2                         1.0                 NaN             2  \n",
       "3                         1.0                 NaN             2  \n",
       "4                         1.0                 NaN             2  \n",
       "...                       ...                 ...           ...  \n",
       "377341                    NaN                 NaN            -1  \n",
       "377342                    NaN                 NaN            -1  \n",
       "377343                    NaN                 NaN            -1  \n",
       "377344                    NaN                 NaN            -1  \n",
       "377345                    NaN                 NaN            -1  \n",
       "\n",
       "[377346 rows x 278 columns]"
      ]
     },
     "execution_count": 11,
     "metadata": {},
     "output_type": "execute_result"
    }
   ],
   "source": [
    "df"
   ]
  },
  {
   "cell_type": "markdown",
   "metadata": {
    "tags": []
   },
   "source": [
    "## Correlation matrix\n",
    "\n",
    "Let us try to deduce what features has some positive correlation with the behaviour \"SITTING\".\n"
   ]
  },
  {
   "cell_type": "code",
   "execution_count": 12,
   "metadata": {
    "id": "MheXiFsJTF_y"
   },
   "outputs": [
    {
     "data": {
      "text/plain": [
       "timestamp                                      0.033548\n",
       "raw_acc:magnitude_stats:percentile25           0.043631\n",
       "raw_acc:magnitude_stats:time_entropy           0.092854\n",
       "raw_acc:magnitude_spectrum:log_energy_band0    0.090146\n",
       "raw_acc:3d:ro_xy                               0.001802\n",
       "                                                 ...   \n",
       "lf_measurements:screen_brightness              0.204674\n",
       "discrete:time_of_day:between9and15             0.210277\n",
       "discrete:time_of_day:between12and18            0.283961\n",
       "discrete:time_of_day:between15and21            0.251741\n",
       "discrete:time_of_day:between18and24            0.140442\n",
       "Name: label:SITTING, Length: 104, dtype: float64"
      ]
     },
     "execution_count": 12,
     "metadata": {},
     "output_type": "execute_result"
    }
   ],
   "source": [
    "# calculating the correlation matrix\n",
    "correlation_matrix = df.corr()\n",
    "\n",
    "# Since we are modellig only for SITTING, let us look as sitting_correlation\n",
    "sitting_correlation = correlation_matrix['label:SITTING']\n",
    "\n",
    "# Filter for only positive correlations\n",
    "positive_sitting_correlation = sitting_correlation[(sitting_correlation > 0) & (~sitting_correlation.index.str.startswith('label'))]\n",
    "positive_sitting_correlation"
   ]
  },
  {
   "cell_type": "code",
   "execution_count": 13,
   "metadata": {
    "colab": {
     "base_uri": "https://localhost:8080/"
    },
    "id": "9UhYkUu8HkqO",
    "outputId": "05957ea4-1cd5-4859-b6ab-b9585c29fbc9"
   },
   "outputs": [
    {
     "data": {
      "text/plain": [
       "lf_measurements:light                  0.344915\n",
       "location:max_speed                     0.301301\n",
       "discrete:time_of_day:between12and18    0.283961\n",
       "audio_naive:mfcc1:std                  0.265374\n",
       "audio_naive:mfcc2:std                  0.265020\n",
       "                                         ...   \n",
       "raw_acc:3d:ro_xy                       0.001802\n",
       "raw_magnet:3d:std_y                    0.001430\n",
       "location:max_altitude                  0.001089\n",
       "discrete:ringer_mode:missing           0.000666\n",
       "discrete:wifi_status:missing           0.000509\n",
       "Name: label:SITTING, Length: 104, dtype: float64"
      ]
     },
     "execution_count": 13,
     "metadata": {},
     "output_type": "execute_result"
    }
   ],
   "source": [
    "sorted_positive_sitting_correlation = positive_sitting_correlation.sort_values(ascending=False)\n",
    "sorted_positive_sitting_correlation"
   ]
  },
  {
   "cell_type": "code",
   "execution_count": 14,
   "metadata": {
    "colab": {
     "base_uri": "https://localhost:8080/",
     "height": 1000
    },
    "id": "WyOUVfGuThyf",
    "outputId": "5186dd04-35dc-459a-d33d-133e40e01df5"
   },
   "outputs": [
    {
     "data": {
      "image/png": "[encoded data removed]",
      "text/plain": [
       "<Figure size 1500x1000 with 2 Axes>"
      ]
     },
     "metadata": {},
     "output_type": "display_data"
    }
   ],
   "source": [
    "top_25_features = sorted_positive_sitting_correlation.head(25).index.tolist()\n",
    "\n",
    "# Checking to see whether 'label:SITTING' has any correlation with these features\n",
    "top_25_features.append('label:SITTING')\n",
    "filtered_df = df[top_25_features]\n",
    "\n",
    "# We will filter it further for only positive correlation\n",
    "correlation_matrix = filtered_df.corr()\n",
    "correlation_matrix = correlation_matrix[correlation_matrix > 0]\n",
    "\n",
    "plt.figure(figsize=(15, 10))\n",
    "sns.heatmap(correlation_matrix,\n",
    "            annot=False,  \n",
    "            linewidths=1,\n",
    "            fmt=\".2f\",\n",
    "            cmap=\"YlGnBu\")\n",
    "\n",
    "plt.title(\"Correlation Matrix for Top 25 Features Related to 'SITTING'\")\n",
    "plt.show()"
   ]
  },
  {
   "cell_type": "markdown",
   "metadata": {
    "id": "tKf1u5NcYvsi"
   },
   "source": [
    "Let us explore this further"
   ]
  },
  {
   "cell_type": "code",
   "execution_count": 15,
   "metadata": {
    "colab": {
     "base_uri": "https://localhost:8080/"
    },
    "id": "4eznof-1WkOy",
    "outputId": "fb4e3a4a-ced0-4978-96fb-f27f1b70f3ca"
   },
   "outputs": [
    {
     "data": {
      "text/plain": [
       "0         1.0\n",
       "1         1.0\n",
       "2         1.0\n",
       "3         1.0\n",
       "4         1.0\n",
       "         ... \n",
       "377341    NaN\n",
       "377342    NaN\n",
       "377343    NaN\n",
       "377344    NaN\n",
       "377345    NaN\n",
       "Name: label:SITTING, Length: 377346, dtype: float64"
      ]
     },
     "execution_count": 15,
     "metadata": {},
     "output_type": "execute_result"
    }
   ],
   "source": [
    "df['label:SITTING']"
   ]
  },
  {
   "cell_type": "code",
   "execution_count": 16,
   "metadata": {
    "colab": {
     "base_uri": "https://localhost:8080/"
    },
    "id": "420Isy_HYW9l",
    "outputId": "3de3e87b-87b4-40bd-c504-22ec7cb8bbf6"
   },
   "outputs": [
    {
     "data": {
      "text/plain": [
       "label:SITTING\n",
       "0.0    170238\n",
       "1.0    136356\n",
       "Name: count, dtype: int64"
      ]
     },
     "execution_count": 16,
     "metadata": {},
     "output_type": "execute_result"
    }
   ],
   "source": [
    "df['label:SITTING'].value_counts()"
   ]
  },
  {
   "cell_type": "code",
   "execution_count": 17,
   "metadata": {
    "colab": {
     "base_uri": "https://localhost:8080/",
     "height": 438
    },
    "id": "kfthVyAfZSBY",
    "outputId": "a2374023-6806-437e-a875-10a99f484c0e"
   },
   "outputs": [
    {
     "data": {
      "image/png": "[encoded data removed]",
      "text/plain": [
       "<Figure size 640x480 with 1 Axes>"
      ]
     },
     "metadata": {},
     "output_type": "display_data"
    }
   ],
   "source": [
    "df['label:SITTING'].value_counts().plot(kind=\"bar\", color=[\"salmon\", \"lightblue\"]);"
   ]
  },
  {
   "cell_type": "code",
   "execution_count": 18,
   "metadata": {
    "colab": {
     "base_uri": "https://localhost:8080/"
    },
    "id": "emoSNzv9bxox",
    "outputId": "e6a78698-d908-42c3-fba0-ac03c25abe4a"
   },
   "outputs": [
    {
     "name": "stdout",
     "output_type": "stream",
     "text": [
      "<class 'pandas.core.series.Series'>\n",
      "RangeIndex: 377346 entries, 0 to 377345\n",
      "Series name: label:SITTING\n",
      "Non-Null Count   Dtype  \n",
      "--------------   -----  \n",
      "306594 non-null  float64\n",
      "dtypes: float64(1)\n",
      "memory usage: 2.9 MB\n"
     ]
    }
   ],
   "source": [
    "df['label:SITTING'].info()"
   ]
  },
  {
   "cell_type": "code",
   "execution_count": 19,
   "metadata": {
    "colab": {
     "base_uri": "https://localhost:8080/"
    },
    "id": "gUoKR7hfb_V5",
    "outputId": "ed9a6abb-8dc1-42ab-fc23-b4b1e0b39fec"
   },
   "outputs": [
    {
     "data": {
      "text/plain": [
       "70752"
      ]
     },
     "execution_count": 19,
     "metadata": {},
     "output_type": "execute_result"
    }
   ],
   "source": [
    "df['label:SITTING'].isna().sum()"
   ]
  },
  {
   "cell_type": "markdown",
   "metadata": {
    "id": "QjS16H4Ccjd1"
   },
   "source": [
    "We can see we have 70752 missing values which we need to deal with."
   ]
  },
  {
   "cell_type": "code",
   "execution_count": 20,
   "metadata": {
    "colab": {
     "base_uri": "https://localhost:8080/"
    },
    "id": "hEdfpukDcXpK",
    "outputId": "dbcfec7a-7621-46a2-9ab6-eec9fab238ad"
   },
   "outputs": [
    {
     "data": {
      "text/plain": [
       "count    306594.000000\n",
       "mean          0.444745\n",
       "std           0.496938\n",
       "min           0.000000\n",
       "25%           0.000000\n",
       "50%           0.000000\n",
       "75%           1.000000\n",
       "max           1.000000\n",
       "Name: label:SITTING, dtype: float64"
      ]
     },
     "execution_count": 20,
     "metadata": {},
     "output_type": "execute_result"
    }
   ],
   "source": [
    "df['label:SITTING'].describe()"
   ]
  },
  {
   "cell_type": "markdown",
   "metadata": {
    "id": "AePjpv4SczG7"
   },
   "source": [
    "# Data Cleaning and Preprocessing"
   ]
  },
  {
   "cell_type": "markdown",
   "metadata": {},
   "source": [
    "## Handling Missing Data"
   ]
  },
  {
   "cell_type": "markdown",
   "metadata": {},
   "source": [
    "Removing rows with missing values in target column(SITTING)"
   ]
  },
  {
   "cell_type": "code",
   "execution_count": 21,
   "metadata": {
    "id": "g3kB-alkp-ZT"
   },
   "outputs": [],
   "source": [
    "df_cleaned = filtered_df.dropna(subset=['label:SITTING'])"
   ]
  },
  {
   "cell_type": "code",
   "execution_count": 22,
   "metadata": {
    "tags": []
   },
   "outputs": [
    {
     "data": {
      "text/plain": [
       "0"
      ]
     },
     "execution_count": 22,
     "metadata": {},
     "output_type": "execute_result"
    }
   ],
   "source": [
    "df_cleaned['label:SITTING'].isna().sum()"
   ]
  },
  {
   "cell_type": "markdown",
   "metadata": {},
   "source": [
    "## Feature and Target Selection"
   ]
  },
  {
   "cell_type": "code",
   "execution_count": 23,
   "metadata": {},
   "outputs": [],
   "source": [
    "X = df_cleaned.drop('label:SITTING', axis=1)  # Features\n",
    "y = df_cleaned['label:SITTING']               # Target"
   ]
  },
  {
   "cell_type": "code",
   "execution_count": 24,
   "metadata": {
    "colab": {
     "base_uri": "https://localhost:8080/"
    },
    "id": "aubxG0F9lItu",
    "outputId": "b8283e8b-2fcd-4a96-e5b7-090e6ff0f455"
   },
   "outputs": [
    {
     "data": {
      "text/plain": [
       "(306594, 25)"
      ]
     },
     "execution_count": 24,
     "metadata": {},
     "output_type": "execute_result"
    }
   ],
   "source": [
    "X.shape"
   ]
  },
  {
   "cell_type": "code",
   "execution_count": 25,
   "metadata": {
    "colab": {
     "base_uri": "https://localhost:8080/"
    },
    "id": "SYVgTKA6C6jZ",
    "outputId": "88ce71da-02c7-4c1e-a5ce-7de54b5724c8"
   },
   "outputs": [
    {
     "data": {
      "text/html": [
       "<div>\n",
       "<style scoped>\n",
       "    .dataframe tbody tr th:only-of-type {\n",
       "        vertical-align: middle;\n",
       "    }\n",
       "\n",
       "    .dataframe tbody tr th {\n",
       "        vertical-align: top;\n",
       "    }\n",
       "\n",
       "    .dataframe thead th {\n",
       "        text-align: right;\n",
       "    }\n",
       "</style>\n",
       "<table border=\"1\" class=\"dataframe\">\n",
       "  <thead>\n",
       "    <tr style=\"text-align: right;\">\n",
       "      <th></th>\n",
       "      <th>lf_measurements:light</th>\n",
       "      <th>location:max_speed</th>\n",
       "      <th>discrete:time_of_day:between12and18</th>\n",
       "      <th>audio_naive:mfcc1:std</th>\n",
       "      <th>audio_naive:mfcc2:std</th>\n",
       "      <th>audio_naive:mfcc3:std</th>\n",
       "      <th>discrete:time_of_day:between15and21</th>\n",
       "      <th>audio_naive:mfcc4:std</th>\n",
       "      <th>audio_naive:mfcc5:std</th>\n",
       "      <th>audio_naive:mfcc6:std</th>\n",
       "      <th>...</th>\n",
       "      <th>audio_naive:mfcc1:mean</th>\n",
       "      <th>audio_naive:mfcc11:std</th>\n",
       "      <th>discrete:time_of_day:between9and15</th>\n",
       "      <th>audio_naive:mfcc12:std</th>\n",
       "      <th>lf_measurements:screen_brightness</th>\n",
       "      <th>watch_acceleration:3d:mean_y</th>\n",
       "      <th>location:best_horizontal_accuracy</th>\n",
       "      <th>proc_gyro:magnitude_spectrum:spectral_entropy</th>\n",
       "      <th>proc_gyro:magnitude_spectrum:log_energy_band1</th>\n",
       "      <th>discrete:time_of_day:between18and24</th>\n",
       "    </tr>\n",
       "  </thead>\n",
       "  <tbody>\n",
       "    <tr>\n",
       "      <th>0</th>\n",
       "      <td>NaN</td>\n",
       "      <td>NaN</td>\n",
       "      <td>1.0</td>\n",
       "      <td>1.271966</td>\n",
       "      <td>1.177478</td>\n",
       "      <td>0.670053</td>\n",
       "      <td>0.0</td>\n",
       "      <td>0.389200</td>\n",
       "      <td>0.535904</td>\n",
       "      <td>0.468701</td>\n",
       "      <td>...</td>\n",
       "      <td>-0.012806</td>\n",
       "      <td>0.416881</td>\n",
       "      <td>1.0</td>\n",
       "      <td>0.263832</td>\n",
       "      <td>0.381436</td>\n",
       "      <td>-55.824000</td>\n",
       "      <td>65.0</td>\n",
       "      <td>1.766920</td>\n",
       "      <td>2.818909</td>\n",
       "      <td>0.0</td>\n",
       "    </tr>\n",
       "    <tr>\n",
       "      <th>1</th>\n",
       "      <td>NaN</td>\n",
       "      <td>NaN</td>\n",
       "      <td>1.0</td>\n",
       "      <td>1.232031</td>\n",
       "      <td>1.098946</td>\n",
       "      <td>0.669467</td>\n",
       "      <td>0.0</td>\n",
       "      <td>0.499003</td>\n",
       "      <td>0.584068</td>\n",
       "      <td>0.525900</td>\n",
       "      <td>...</td>\n",
       "      <td>1.294372</td>\n",
       "      <td>0.362252</td>\n",
       "      <td>1.0</td>\n",
       "      <td>0.298252</td>\n",
       "      <td>0.381436</td>\n",
       "      <td>-56.096000</td>\n",
       "      <td>65.0</td>\n",
       "      <td>1.455363</td>\n",
       "      <td>2.153223</td>\n",
       "      <td>0.0</td>\n",
       "    </tr>\n",
       "    <tr>\n",
       "      <th>2</th>\n",
       "      <td>NaN</td>\n",
       "      <td>NaN</td>\n",
       "      <td>1.0</td>\n",
       "      <td>1.186965</td>\n",
       "      <td>1.251340</td>\n",
       "      <td>0.803958</td>\n",
       "      <td>0.0</td>\n",
       "      <td>0.546688</td>\n",
       "      <td>0.562475</td>\n",
       "      <td>0.559488</td>\n",
       "      <td>...</td>\n",
       "      <td>1.309082</td>\n",
       "      <td>0.430171</td>\n",
       "      <td>1.0</td>\n",
       "      <td>0.330055</td>\n",
       "      <td>0.381436</td>\n",
       "      <td>-57.696000</td>\n",
       "      <td>65.0</td>\n",
       "      <td>1.848755</td>\n",
       "      <td>3.366933</td>\n",
       "      <td>0.0</td>\n",
       "    </tr>\n",
       "    <tr>\n",
       "      <th>3</th>\n",
       "      <td>NaN</td>\n",
       "      <td>NaN</td>\n",
       "      <td>1.0</td>\n",
       "      <td>1.410698</td>\n",
       "      <td>1.111916</td>\n",
       "      <td>0.821571</td>\n",
       "      <td>0.0</td>\n",
       "      <td>0.519879</td>\n",
       "      <td>0.572094</td>\n",
       "      <td>0.591143</td>\n",
       "      <td>...</td>\n",
       "      <td>0.182373</td>\n",
       "      <td>0.379887</td>\n",
       "      <td>1.0</td>\n",
       "      <td>0.389737</td>\n",
       "      <td>0.381436</td>\n",
       "      <td>-56.400000</td>\n",
       "      <td>65.0</td>\n",
       "      <td>1.726047</td>\n",
       "      <td>3.325518</td>\n",
       "      <td>0.0</td>\n",
       "    </tr>\n",
       "    <tr>\n",
       "      <th>4</th>\n",
       "      <td>NaN</td>\n",
       "      <td>NaN</td>\n",
       "      <td>1.0</td>\n",
       "      <td>2.147232</td>\n",
       "      <td>1.251696</td>\n",
       "      <td>0.902605</td>\n",
       "      <td>0.0</td>\n",
       "      <td>0.777665</td>\n",
       "      <td>0.678277</td>\n",
       "      <td>0.652441</td>\n",
       "      <td>...</td>\n",
       "      <td>0.908387</td>\n",
       "      <td>0.393817</td>\n",
       "      <td>1.0</td>\n",
       "      <td>0.331128</td>\n",
       "      <td>0.381436</td>\n",
       "      <td>-101.187368</td>\n",
       "      <td>65.0</td>\n",
       "      <td>3.425678</td>\n",
       "      <td>3.912588</td>\n",
       "      <td>0.0</td>\n",
       "    </tr>\n",
       "    <tr>\n",
       "      <th>...</th>\n",
       "      <td>...</td>\n",
       "      <td>...</td>\n",
       "      <td>...</td>\n",
       "      <td>...</td>\n",
       "      <td>...</td>\n",
       "      <td>...</td>\n",
       "      <td>...</td>\n",
       "      <td>...</td>\n",
       "      <td>...</td>\n",
       "      <td>...</td>\n",
       "      <td>...</td>\n",
       "      <td>...</td>\n",
       "      <td>...</td>\n",
       "      <td>...</td>\n",
       "      <td>...</td>\n",
       "      <td>...</td>\n",
       "      <td>...</td>\n",
       "      <td>...</td>\n",
       "      <td>...</td>\n",
       "      <td>...</td>\n",
       "      <td>...</td>\n",
       "    </tr>\n",
       "    <tr>\n",
       "      <th>377321</th>\n",
       "      <td>NaN</td>\n",
       "      <td>1.74</td>\n",
       "      <td>0.0</td>\n",
       "      <td>1.125063</td>\n",
       "      <td>0.728020</td>\n",
       "      <td>0.482000</td>\n",
       "      <td>0.0</td>\n",
       "      <td>0.373640</td>\n",
       "      <td>0.286663</td>\n",
       "      <td>0.242171</td>\n",
       "      <td>...</td>\n",
       "      <td>1.603140</td>\n",
       "      <td>0.213801</td>\n",
       "      <td>0.0</td>\n",
       "      <td>0.186613</td>\n",
       "      <td>0.000015</td>\n",
       "      <td>NaN</td>\n",
       "      <td>5.0</td>\n",
       "      <td>1.321307</td>\n",
       "      <td>0.788453</td>\n",
       "      <td>0.0</td>\n",
       "    </tr>\n",
       "    <tr>\n",
       "      <th>377322</th>\n",
       "      <td>NaN</td>\n",
       "      <td>3.48</td>\n",
       "      <td>0.0</td>\n",
       "      <td>1.184854</td>\n",
       "      <td>0.733604</td>\n",
       "      <td>0.500369</td>\n",
       "      <td>0.0</td>\n",
       "      <td>0.424783</td>\n",
       "      <td>0.346504</td>\n",
       "      <td>0.271555</td>\n",
       "      <td>...</td>\n",
       "      <td>1.690882</td>\n",
       "      <td>0.183018</td>\n",
       "      <td>1.0</td>\n",
       "      <td>0.178549</td>\n",
       "      <td>0.000015</td>\n",
       "      <td>NaN</td>\n",
       "      <td>5.0</td>\n",
       "      <td>1.315108</td>\n",
       "      <td>0.122612</td>\n",
       "      <td>0.0</td>\n",
       "    </tr>\n",
       "    <tr>\n",
       "      <th>377323</th>\n",
       "      <td>NaN</td>\n",
       "      <td>2.68</td>\n",
       "      <td>0.0</td>\n",
       "      <td>1.205948</td>\n",
       "      <td>0.795810</td>\n",
       "      <td>0.465592</td>\n",
       "      <td>0.0</td>\n",
       "      <td>0.366454</td>\n",
       "      <td>0.303812</td>\n",
       "      <td>0.252889</td>\n",
       "      <td>...</td>\n",
       "      <td>1.928444</td>\n",
       "      <td>0.198836</td>\n",
       "      <td>1.0</td>\n",
       "      <td>0.207751</td>\n",
       "      <td>0.000015</td>\n",
       "      <td>NaN</td>\n",
       "      <td>5.0</td>\n",
       "      <td>1.389615</td>\n",
       "      <td>0.843170</td>\n",
       "      <td>0.0</td>\n",
       "    </tr>\n",
       "    <tr>\n",
       "      <th>377324</th>\n",
       "      <td>NaN</td>\n",
       "      <td>2.24</td>\n",
       "      <td>0.0</td>\n",
       "      <td>0.691122</td>\n",
       "      <td>0.425398</td>\n",
       "      <td>0.369699</td>\n",
       "      <td>0.0</td>\n",
       "      <td>0.289125</td>\n",
       "      <td>0.310188</td>\n",
       "      <td>0.238018</td>\n",
       "      <td>...</td>\n",
       "      <td>-0.155248</td>\n",
       "      <td>0.175390</td>\n",
       "      <td>1.0</td>\n",
       "      <td>0.179356</td>\n",
       "      <td>0.456982</td>\n",
       "      <td>NaN</td>\n",
       "      <td>5.0</td>\n",
       "      <td>1.223915</td>\n",
       "      <td>2.344227</td>\n",
       "      <td>0.0</td>\n",
       "    </tr>\n",
       "    <tr>\n",
       "      <th>377325</th>\n",
       "      <td>NaN</td>\n",
       "      <td>1.37</td>\n",
       "      <td>0.0</td>\n",
       "      <td>0.654368</td>\n",
       "      <td>0.539415</td>\n",
       "      <td>0.381460</td>\n",
       "      <td>0.0</td>\n",
       "      <td>0.321242</td>\n",
       "      <td>0.243568</td>\n",
       "      <td>0.250475</td>\n",
       "      <td>...</td>\n",
       "      <td>0.923950</td>\n",
       "      <td>0.207095</td>\n",
       "      <td>1.0</td>\n",
       "      <td>0.196992</td>\n",
       "      <td>0.987446</td>\n",
       "      <td>NaN</td>\n",
       "      <td>5.0</td>\n",
       "      <td>1.684402</td>\n",
       "      <td>3.560600</td>\n",
       "      <td>0.0</td>\n",
       "    </tr>\n",
       "  </tbody>\n",
       "</table>\n",
       "<p>306594 rows × 25 columns</p>\n",
       "</div>"
      ],
      "text/plain": [
       "        lf_measurements:light  location:max_speed  \\\n",
       "0                         NaN                 NaN   \n",
       "1                         NaN                 NaN   \n",
       "2                         NaN                 NaN   \n",
       "3                         NaN                 NaN   \n",
       "4                         NaN                 NaN   \n",
       "...                       ...                 ...   \n",
       "377321                    NaN                1.74   \n",
       "377322                    NaN                3.48   \n",
       "377323                    NaN                2.68   \n",
       "377324                    NaN                2.24   \n",
       "377325                    NaN                1.37   \n",
       "\n",
       "        discrete:time_of_day:between12and18  audio_naive:mfcc1:std  \\\n",
       "0                                       1.0               1.271966   \n",
       "1                                       1.0               1.232031   \n",
       "2                                       1.0               1.186965   \n",
       "3                                       1.0               1.410698   \n",
       "4                                       1.0               2.147232   \n",
       "...                                     ...                    ...   \n",
       "377321                                  0.0               1.125063   \n",
       "377322                                  0.0               1.184854   \n",
       "377323                                  0.0               1.205948   \n",
       "377324                                  0.0               0.691122   \n",
       "377325                                  0.0               0.654368   \n",
       "\n",
       "        audio_naive:mfcc2:std  audio_naive:mfcc3:std  \\\n",
       "0                    1.177478               0.670053   \n",
       "1                    1.098946               0.669467   \n",
       "2                    1.251340               0.803958   \n",
       "3                    1.111916               0.821571   \n",
       "4                    1.251696               0.902605   \n",
       "...                       ...                    ...   \n",
       "377321               0.728020               0.482000   \n",
       "377322               0.733604               0.500369   \n",
       "377323               0.795810               0.465592   \n",
       "377324               0.425398               0.369699   \n",
       "377325               0.539415               0.381460   \n",
       "\n",
       "        discrete:time_of_day:between15and21  audio_naive:mfcc4:std  \\\n",
       "0                                       0.0               0.389200   \n",
       "1                                       0.0               0.499003   \n",
       "2                                       0.0               0.546688   \n",
       "3                                       0.0               0.519879   \n",
       "4                                       0.0               0.777665   \n",
       "...                                     ...                    ...   \n",
       "377321                                  0.0               0.373640   \n",
       "377322                                  0.0               0.424783   \n",
       "377323                                  0.0               0.366454   \n",
       "377324                                  0.0               0.289125   \n",
       "377325                                  0.0               0.321242   \n",
       "\n",
       "        audio_naive:mfcc5:std  audio_naive:mfcc6:std  ...  \\\n",
       "0                    0.535904               0.468701  ...   \n",
       "1                    0.584068               0.525900  ...   \n",
       "2                    0.562475               0.559488  ...   \n",
       "3                    0.572094               0.591143  ...   \n",
       "4                    0.678277               0.652441  ...   \n",
       "...                       ...                    ...  ...   \n",
       "377321               0.286663               0.242171  ...   \n",
       "377322               0.346504               0.271555  ...   \n",
       "377323               0.303812               0.252889  ...   \n",
       "377324               0.310188               0.238018  ...   \n",
       "377325               0.243568               0.250475  ...   \n",
       "\n",
       "        audio_naive:mfcc1:mean  audio_naive:mfcc11:std  \\\n",
       "0                    -0.012806                0.416881   \n",
       "1                     1.294372                0.362252   \n",
       "2                     1.309082                0.430171   \n",
       "3                     0.182373                0.379887   \n",
       "4                     0.908387                0.393817   \n",
       "...                        ...                     ...   \n",
       "377321                1.603140                0.213801   \n",
       "377322                1.690882                0.183018   \n",
       "377323                1.928444                0.198836   \n",
       "377324               -0.155248                0.175390   \n",
       "377325                0.923950                0.207095   \n",
       "\n",
       "        discrete:time_of_day:between9and15  audio_naive:mfcc12:std  \\\n",
       "0                                      1.0                0.263832   \n",
       "1                                      1.0                0.298252   \n",
       "2                                      1.0                0.330055   \n",
       "3                                      1.0                0.389737   \n",
       "4                                      1.0                0.331128   \n",
       "...                                    ...                     ...   \n",
       "377321                                 0.0                0.186613   \n",
       "377322                                 1.0                0.178549   \n",
       "377323                                 1.0                0.207751   \n",
       "377324                                 1.0                0.179356   \n",
       "377325                                 1.0                0.196992   \n",
       "\n",
       "        lf_measurements:screen_brightness  watch_acceleration:3d:mean_y  \\\n",
       "0                                0.381436                    -55.824000   \n",
       "1                                0.381436                    -56.096000   \n",
       "2                                0.381436                    -57.696000   \n",
       "3                                0.381436                    -56.400000   \n",
       "4                                0.381436                   -101.187368   \n",
       "...                                   ...                           ...   \n",
       "377321                           0.000015                           NaN   \n",
       "377322                           0.000015                           NaN   \n",
       "377323                           0.000015                           NaN   \n",
       "377324                           0.456982                           NaN   \n",
       "377325                           0.987446                           NaN   \n",
       "\n",
       "        location:best_horizontal_accuracy  \\\n",
       "0                                    65.0   \n",
       "1                                    65.0   \n",
       "2                                    65.0   \n",
       "3                                    65.0   \n",
       "4                                    65.0   \n",
       "...                                   ...   \n",
       "377321                                5.0   \n",
       "377322                                5.0   \n",
       "377323                                5.0   \n",
       "377324                                5.0   \n",
       "377325                                5.0   \n",
       "\n",
       "        proc_gyro:magnitude_spectrum:spectral_entropy  \\\n",
       "0                                            1.766920   \n",
       "1                                            1.455363   \n",
       "2                                            1.848755   \n",
       "3                                            1.726047   \n",
       "4                                            3.425678   \n",
       "...                                               ...   \n",
       "377321                                       1.321307   \n",
       "377322                                       1.315108   \n",
       "377323                                       1.389615   \n",
       "377324                                       1.223915   \n",
       "377325                                       1.684402   \n",
       "\n",
       "        proc_gyro:magnitude_spectrum:log_energy_band1  \\\n",
       "0                                            2.818909   \n",
       "1                                            2.153223   \n",
       "2                                            3.366933   \n",
       "3                                            3.325518   \n",
       "4                                            3.912588   \n",
       "...                                               ...   \n",
       "377321                                       0.788453   \n",
       "377322                                       0.122612   \n",
       "377323                                       0.843170   \n",
       "377324                                       2.344227   \n",
       "377325                                       3.560600   \n",
       "\n",
       "        discrete:time_of_day:between18and24  \n",
       "0                                       0.0  \n",
       "1                                       0.0  \n",
       "2                                       0.0  \n",
       "3                                       0.0  \n",
       "4                                       0.0  \n",
       "...                                     ...  \n",
       "377321                                  0.0  \n",
       "377322                                  0.0  \n",
       "377323                                  0.0  \n",
       "377324                                  0.0  \n",
       "377325                                  0.0  \n",
       "\n",
       "[306594 rows x 25 columns]"
      ]
     },
     "execution_count": 25,
     "metadata": {},
     "output_type": "execute_result"
    }
   ],
   "source": [
    "X"
   ]
  },
  {
   "cell_type": "code",
   "execution_count": 26,
   "metadata": {
    "colab": {
     "base_uri": "https://localhost:8080/"
    },
    "id": "dnjlnCQsWnHA",
    "outputId": "d641afab-d3a4-4470-b07a-096d1a758f7c"
   },
   "outputs": [
    {
     "data": {
      "text/plain": [
       "0         1.0\n",
       "1         1.0\n",
       "2         1.0\n",
       "3         1.0\n",
       "4         1.0\n",
       "         ... \n",
       "377321    0.0\n",
       "377322    0.0\n",
       "377323    0.0\n",
       "377324    0.0\n",
       "377325    0.0\n",
       "Name: label:SITTING, Length: 306594, dtype: float64"
      ]
     },
     "execution_count": 26,
     "metadata": {},
     "output_type": "execute_result"
    }
   ],
   "source": [
    "y"
   ]
  },
  {
   "cell_type": "markdown",
   "metadata": {},
   "source": [
    "## Data Transformation and Scaling"
   ]
  },
  {
   "cell_type": "markdown",
   "metadata": {},
   "source": [
    "Data imputation standardizes our featureset, handling missing data effectively."
   ]
  },
  {
   "cell_type": "code",
   "execution_count": 27,
   "metadata": {
    "id": "sAZOz-RWTowq"
   },
   "outputs": [],
   "source": [
    "imputer = SimpleImputer(strategy='mean')\n",
    "X = imputer.fit_transform(X)"
   ]
  },
  {
   "cell_type": "markdown",
   "metadata": {},
   "source": [
    "Scaling ensures that all features contribute equally to the model thereby avoiding skewed results."
   ]
  },
  {
   "cell_type": "code",
   "execution_count": 28,
   "metadata": {
    "id": "QzwDHr4oTt2x"
   },
   "outputs": [],
   "source": [
    "scaler = StandardScaler()\n",
    "X = scaler.fit_transform(X)"
   ]
  },
  {
   "cell_type": "markdown",
   "metadata": {},
   "source": [
    "## Splitting the Dataset"
   ]
  },
  {
   "cell_type": "code",
   "execution_count": 29,
   "metadata": {
    "id": "gBy5T0DqNrch"
   },
   "outputs": [],
   "source": [
    "X_train, X_test, y_train, y_test = train_test_split(X, y, test_size=0.2)"
   ]
  },
  {
   "cell_type": "markdown",
   "metadata": {},
   "source": [
    "# Model Selection"
   ]
  },
  {
   "cell_type": "markdown",
   "metadata": {},
   "source": [
    "We will choose a diverse range of models to check each algorithms' effectiveness on our dataset."
   ]
  },
  {
   "cell_type": "code",
   "execution_count": 30,
   "metadata": {
    "id": "gXQ_2HHcQ62V"
   },
   "outputs": [],
   "source": [
    "# Models dictionary\n",
    "models = {\n",
    "    \"Logistic Regression\": LogisticRegression(),\n",
    "    \"KNN\": KNeighborsClassifier(),\n",
    "    \"Random Forest\": RandomForestClassifier(),\n",
    "    \"Decision Tree\": DecisionTreeClassifier(),\n",
    "    \"XGBoost\": xgb.XGBClassifier()\n",
    "}"
   ]
  },
  {
   "cell_type": "markdown",
   "metadata": {},
   "source": [
    "Defining a function that loops through each model and outputs its performance."
   ]
  },
  {
   "cell_type": "code",
   "execution_count": 31,
   "metadata": {
    "id": "qLX2PgCQRjTZ"
   },
   "outputs": [],
   "source": [
    "# Function to fit and score models\n",
    "def fit_and_score(models, X_train, X_test, y_train, y_test):\n",
    "    model_scores = {}\n",
    "    for name, model in models.items():\n",
    "        model.fit(X_train, y_train)\n",
    "        model_scores[name] = model.score(X_test, y_test)\n",
    "    return model_scores"
   ]
  },
  {
   "cell_type": "markdown",
   "metadata": {},
   "source": [
    "# Model Training and Evaluation"
   ]
  },
  {
   "cell_type": "code",
   "execution_count": 32,
   "metadata": {
    "colab": {
     "base_uri": "https://localhost:8080/"
    },
    "id": "h9QMVjv2TVaw",
    "outputId": "862a6b0a-3fb4-4f7f-a7cd-12c1a96b488c",
    "tags": []
   },
   "outputs": [
    {
     "data": {
      "text/plain": [
       "{'Logistic Regression': 0.7262838598150655,\n",
       " 'KNN': 0.8450072571307425,\n",
       " 'Random Forest': 0.8593258207081003,\n",
       " 'Decision Tree': 0.8020841827166131,\n",
       " 'XGBoost': 0.8283892431383421}"
      ]
     },
     "execution_count": 32,
     "metadata": {},
     "output_type": "execute_result"
    }
   ],
   "source": [
    "model_scores = fit_and_score(models=models,\n",
    "                             X_train=X_train,\n",
    "                             X_test=X_test,\n",
    "                             y_train=y_train,\n",
    "                             y_test=y_test)\n",
    "model_scores"
   ]
  },
  {
   "cell_type": "markdown",
   "metadata": {},
   "source": [
    "Comparing and plotting each model performance."
   ]
  },
  {
   "cell_type": "code",
   "execution_count": 33,
   "metadata": {
    "colab": {
     "base_uri": "https://localhost:8080/",
     "height": 549
    },
    "id": "fd7EhlFM59mf",
    "outputId": "588c4acf-b0c2-4b91-f5f3-2293061358b2"
   },
   "outputs": [
    {
     "data": {
      "image/png": "[encoded data removed]",
      "text/plain": [
       "<Figure size 640x480 with 1 Axes>"
      ]
     },
     "metadata": {},
     "output_type": "display_data"
    }
   ],
   "source": [
    "model_compare = pd.DataFrame(model_scores, index=['accuracy'])\n",
    "model_compare.T.plot.bar();"
   ]
  },
  {
   "cell_type": "markdown",
   "metadata": {},
   "source": [
    "We see that RandomForestClassifier performs that best followed by KNN in our baseline performance test. We'll discard the rest and try to further optimize the performance of the two."
   ]
  },
  {
   "cell_type": "markdown",
   "metadata": {
    "tags": []
   },
   "source": [
    "# Model Optimization and Hyperparameter Tuning"
   ]
  },
  {
   "cell_type": "markdown",
   "metadata": {
    "id": "9l-wh2fqYUVi"
   },
   "source": [
    "## Tuning KNeighborsClassifier by hand"
   ]
  },
  {
   "cell_type": "code",
   "execution_count": null,
   "metadata": {
    "id": "zkbAQ1pa6OOJ"
   },
   "outputs": [],
   "source": [
    "# # Creating a list of train scores\n",
    "# train_scores = []\n",
    "\n",
    "# # Creating a list of test scores\n",
    "# test_scores = []\n",
    "\n",
    "# neighbors = range(1, 11) # 1 to 10\n",
    "\n",
    "# knn = KNeighborsClassifier()\n",
    "\n",
    "# # Loop through different neighbors\n",
    "# for i in neighbors:\n",
    "#     knn.set_params(n_neighbors = i) # set neighbors value\n",
    "#     knn.fit(X_train, y_train)\n",
    "#     train_scores.append(knn.score(X_train, y_train))\n",
    "#     test_scores.append(knn.score(X_test, y_test))"
   ]
  },
  {
   "cell_type": "code",
   "execution_count": null,
   "metadata": {
    "colab": {
     "base_uri": "https://localhost:8080/"
    },
    "id": "xwMpUYpydfAe",
    "outputId": "891258a3-0873-4c6a-e921-2c3405de5543"
   },
   "outputs": [],
   "source": [
    "# # Save the train scores\n",
    "# dump(train_scores, save_directory + 'knn_train_scores.joblib')\n",
    "# print('Train scores saved'))\n",
    "\n",
    "# # Save the test scores\n",
    "# dump(test_scores, save_directory + 'knn_test_scores.joblib')\n",
    "# print('Test scores saved'))\n",
    "\n",
    "# # Save the KNN model\n",
    "# dump(knn, save_directory + 'knn_model.joblib')\n",
    "# print('KNN model saved'))"
   ]
  },
  {
   "cell_type": "code",
   "execution_count": 34,
   "metadata": {
    "tags": []
   },
   "outputs": [
    {
     "name": "stdout",
     "output_type": "stream",
     "text": [
      "Train scores loaded\n",
      "Test scores loaded\n",
      "KNN model loaded\n"
     ]
    }
   ],
   "source": [
    "# Load the train scores\n",
    "train_scores = load(save_directory + 'knn_train_scores.joblib')\n",
    "print('Train scores loaded')\n",
    "\n",
    "# Load the test scores\n",
    "test_scores = load(save_directory + 'knn_test_scores.joblib')\n",
    "print('Test scores loaded')\n",
    "\n",
    "# Load the KNN model\n",
    "knn = load(save_directory + 'knn_model.joblib')\n",
    "print('KNN model loaded')"
   ]
  },
  {
   "cell_type": "code",
   "execution_count": 35,
   "metadata": {
    "colab": {
     "base_uri": "https://localhost:8080/"
    },
    "id": "qbtojWqw60wH",
    "outputId": "0d67f713-5c97-40cf-f817-aa82a7162782",
    "tags": []
   },
   "outputs": [
    {
     "data": {
      "text/plain": [
       "[0.9998613800835796,\n",
       " 0.9189399653450209,\n",
       " 0.9186668025685455,\n",
       " 0.8983467536438692,\n",
       " 0.8948731016206299,\n",
       " 0.8859158087860565,\n",
       " 0.8829436346957497,\n",
       " 0.8773050657425339,\n",
       " 0.8746875955560086,\n",
       " 0.8706513097543573]"
      ]
     },
     "execution_count": 35,
     "metadata": {},
     "output_type": "execute_result"
    }
   ],
   "source": [
    "train_scores"
   ]
  },
  {
   "cell_type": "code",
   "execution_count": 36,
   "metadata": {
    "colab": {
     "base_uri": "https://localhost:8080/"
    },
    "id": "JLcH4UPBe_HI",
    "outputId": "6406c3b2-12f6-42c4-e96e-96bab4dd918f",
    "tags": []
   },
   "outputs": [
    {
     "data": {
      "text/plain": [
       "[0.8365922471012247,\n",
       " 0.8191751333191996,\n",
       " 0.8437678370488756,\n",
       " 0.836999951075523,\n",
       " 0.8450072571307425,\n",
       " 0.840473588936545,\n",
       " 0.8444038552487809,\n",
       " 0.8403594318237414,\n",
       " 0.8423001027414015,\n",
       " 0.8396092565110325]"
      ]
     },
     "execution_count": 36,
     "metadata": {},
     "output_type": "execute_result"
    }
   ],
   "source": [
    "test_scores"
   ]
  },
  {
   "cell_type": "code",
   "execution_count": 37,
   "metadata": {
    "colab": {
     "base_uri": "https://localhost:8080/",
     "height": 468
    },
    "id": "n9dZjQAvRGM1",
    "outputId": "7b3b3cca-b832-4cf2-8fb5-fa6327adc93d",
    "tags": []
   },
   "outputs": [
    {
     "data": {
      "text/plain": [
       "<matplotlib.legend.Legend at 0x7f7169d53410>"
      ]
     },
     "execution_count": 37,
     "metadata": {},
     "output_type": "execute_result"
    },
    {
     "data": {
      "image/png": "[encoded data removed]",
      "text/plain": [
       "<Figure size 640x480 with 1 Axes>"
      ]
     },
     "metadata": {},
     "output_type": "display_data"
    }
   ],
   "source": [
    "neighbors = range(1, 11) # 1 to 10\n",
    "plt.plot(neighbors, train_scores, label=\"Train score\")\n",
    "plt.plot(neighbors, test_scores, label=\"Test score\")\n",
    "plt.xticks(np.arange(1, 11, 1))\n",
    "plt.xlabel(\"Number of neighbors\")\n",
    "plt.ylabel(\"Model score\")\n",
    "plt.legend()"
   ]
  },
  {
   "cell_type": "code",
   "execution_count": 38,
   "metadata": {
    "tags": []
   },
   "outputs": [
    {
     "name": "stdout",
     "output_type": "stream",
     "text": [
      "Maximum KNN score on the test data: 84.5007%\n"
     ]
    }
   ],
   "source": [
    "print(f\"Maximum KNN score on the test data: {max(test_scores)*100:.4f}%\")"
   ]
  },
  {
   "cell_type": "code",
   "execution_count": 39,
   "metadata": {
    "tags": []
   },
   "outputs": [
    {
     "data": {
      "text/plain": [
       "{'Logistic Regression': 0.7262838598150655,\n",
       " 'KNN': 0.8450072571307425,\n",
       " 'Random Forest': 0.8593258207081003,\n",
       " 'Decision Tree': 0.8020841827166131,\n",
       " 'XGBoost': 0.8283892431383421}"
      ]
     },
     "execution_count": 39,
     "metadata": {},
     "output_type": "execute_result"
    }
   ],
   "source": [
    "model_scores"
   ]
  },
  {
   "cell_type": "markdown",
   "metadata": {
    "id": "Uo_c9K_he63v"
   },
   "source": [
    "Looking at the graph, n_neighbors = 5 seems best. But when we compare it with our base model we do not see any improvement in accuracy. So we will stop tuning it further."
   ]
  },
  {
   "cell_type": "markdown",
   "metadata": {},
   "source": [
    "Let us try and tune our best model i.e RandomForest Classifier"
   ]
  },
  {
   "cell_type": "markdown",
   "metadata": {
    "id": "q1S2KVAfYj7V"
   },
   "source": [
    "## Tuning Random Forest Classifier with RandomizedSearchCV"
   ]
  },
  {
   "cell_type": "code",
   "execution_count": null,
   "metadata": {
    "id": "bjKH-WyRfyAF",
    "tags": []
   },
   "outputs": [],
   "source": [
    "# rf_grid = {\n",
    "#     \"n_estimators\": np.arange(10, 500, 50),\n",
    "#     \"max_depth\": [None, 3, 5, 10],\n",
    "#     \"min_samples_split\": np.arange(2, 20, 2),\n",
    "#     \"min_samples_leaf\": np.arange(1, 20, 2)\n",
    "# }"
   ]
  },
  {
   "cell_type": "code",
   "execution_count": null,
   "metadata": {
    "colab": {
     "base_uri": "https://localhost:8080/"
    },
    "id": "PxjIAgCof_Zu",
    "outputId": "979e3e63-97f0-4363-b129-a5763e3d4305",
    "tags": []
   },
   "outputs": [],
   "source": [
    "# rs_rf = RandomizedSearchCV(RandomForestClassifier(),\n",
    "#                            param_distributions=rf_grid,\n",
    "#                            cv=3,\n",
    "#                            n_iter=10,\n",
    "#                            verbose=True,\n",
    "#                            n_jobs=-1)\n",
    "\n",
    "# # Fit random hyperparameter search model\n",
    "# rs_rf.fit(X_train, y_train);"
   ]
  },
  {
   "cell_type": "code",
   "execution_count": null,
   "metadata": {
    "id": "9Jo_qFlVhE45",
    "tags": []
   },
   "outputs": [],
   "source": [
    "# # Save the RandomizedSearchCV object for RandomForestClassifier\n",
    "# dump(rs_rf, save_directory + 'random_forest_random_search_model.joblib')\n",
    "# print('RandomizedSearchCV model saved'))"
   ]
  },
  {
   "cell_type": "code",
   "execution_count": 40,
   "metadata": {},
   "outputs": [
    {
     "name": "stdout",
     "output_type": "stream",
     "text": [
      "RandomizedSearchCV object for RandomForestClassifier loaded\n"
     ]
    }
   ],
   "source": [
    "# Load the RandomizedSearchCV object for RandomForestClassifier\n",
    "rs_rf = load(save_directory + 'random_forest_random_search_model.joblib')\n",
    "print('RandomizedSearchCV object for RandomForestClassifier loaded')"
   ]
  },
  {
   "cell_type": "code",
   "execution_count": 41,
   "metadata": {
    "id": "arVz8Kf6dYne",
    "tags": []
   },
   "outputs": [
    {
     "data": {
      "text/plain": [
       "{'n_estimators': 310,\n",
       " 'min_samples_split': 4,\n",
       " 'min_samples_leaf': 11,\n",
       " 'max_depth': None}"
      ]
     },
     "execution_count": 41,
     "metadata": {},
     "output_type": "execute_result"
    }
   ],
   "source": [
    "# Best parameters\n",
    "rs_rf.best_params_"
   ]
  },
  {
   "cell_type": "code",
   "execution_count": 42,
   "metadata": {
    "id": "F9HgXI-zgRid",
    "tags": []
   },
   "outputs": [
    {
     "data": {
      "text/plain": [
       "0.8445017042026126"
      ]
     },
     "execution_count": 42,
     "metadata": {},
     "output_type": "execute_result"
    }
   ],
   "source": [
    "# Evaluating the randomized search random forest model\n",
    "rs_rf.score(X_test, y_test)"
   ]
  },
  {
   "cell_type": "code",
   "execution_count": 43,
   "metadata": {
    "id": "PVdGPoMW6M1C",
    "tags": []
   },
   "outputs": [
    {
     "data": {
      "text/plain": [
       "{'Logistic Regression': 0.7262838598150655,\n",
       " 'KNN': 0.8450072571307425,\n",
       " 'Random Forest': 0.8593258207081003,\n",
       " 'Decision Tree': 0.8020841827166131,\n",
       " 'XGBoost': 0.8283892431383421}"
      ]
     },
     "execution_count": 43,
     "metadata": {},
     "output_type": "execute_result"
    }
   ],
   "source": [
    "model_scores"
   ]
  },
  {
   "cell_type": "markdown",
   "metadata": {},
   "source": [
    "We don't see any improvement in scores after hyperparamter tuning. Infact we observe that the baseline model performs better. Hence, we will stop modeling further."
   ]
  },
  {
   "cell_type": "markdown",
   "metadata": {
    "tags": []
   },
   "source": [
    "# Final Model Evaluation"
   ]
  },
  {
   "cell_type": "markdown",
   "metadata": {
    "tags": []
   },
   "source": [
    "We'll make predictions on the test data"
   ]
  },
  {
   "cell_type": "code",
   "execution_count": 44,
   "metadata": {
    "tags": []
   },
   "outputs": [],
   "source": [
    "y_preds = rs_rf.predict(X_test)"
   ]
  },
  {
   "cell_type": "code",
   "execution_count": 45,
   "metadata": {
    "tags": []
   },
   "outputs": [
    {
     "data": {
      "text/plain": [
       "array([1., 1., 1., ..., 0., 1., 0.])"
      ]
     },
     "execution_count": 45,
     "metadata": {},
     "output_type": "execute_result"
    }
   ],
   "source": [
    "y_preds"
   ]
  },
  {
   "cell_type": "code",
   "execution_count": 46,
   "metadata": {
    "tags": []
   },
   "outputs": [
    {
     "data": {
      "text/plain": [
       "287855    1.0\n",
       "19744     1.0\n",
       "54685     1.0\n",
       "261262    0.0\n",
       "139215    1.0\n",
       "         ... \n",
       "326981    0.0\n",
       "333000    0.0\n",
       "62508     0.0\n",
       "197346    1.0\n",
       "120297    1.0\n",
       "Name: label:SITTING, Length: 61319, dtype: float64"
      ]
     },
     "execution_count": 46,
     "metadata": {},
     "output_type": "execute_result"
    }
   ],
   "source": [
    "y_test"
   ]
  },
  {
   "cell_type": "markdown",
   "metadata": {},
   "source": [
    "## ROC Curve"
   ]
  },
  {
   "cell_type": "code",
   "execution_count": 47,
   "metadata": {
    "tags": []
   },
   "outputs": [
    {
     "data": {
      "image/png": "[encoded data removed]",
      "text/plain": [
       "<Figure size 640x480 with 1 Axes>"
      ]
     },
     "metadata": {},
     "output_type": "display_data"
    }
   ],
   "source": [
    "RocCurveDisplay.from_estimator(estimator=rs_rf, \n",
    "                               X=X_test, \n",
    "                               y=y_test); "
   ]
  },
  {
   "cell_type": "markdown",
   "metadata": {},
   "source": [
    "This is great. Our model has a area under the curve (AUC) of 0.93, suggesting that the model has a strong ability to distinguish between the positive and negative classes. The curve approaches the top left corner of the graph, showing a low false positive rate and a high true positive rate."
   ]
  },
  {
   "cell_type": "markdown",
   "metadata": {},
   "source": [
    "## Confusion Matrix"
   ]
  },
  {
   "cell_type": "code",
   "execution_count": 48,
   "metadata": {
    "tags": []
   },
   "outputs": [
    {
     "name": "stdout",
     "output_type": "stream",
     "text": [
      "[[27887  6257]\n",
      " [ 3278 23897]]\n"
     ]
    }
   ],
   "source": [
    "print(confusion_matrix(y_test, y_preds))"
   ]
  },
  {
   "cell_type": "code",
   "execution_count": 49,
   "metadata": {
    "tags": []
   },
   "outputs": [
    {
     "data": {
      "image/png": "[encoded data removed]",
      "text/plain": [
       "<Figure size 300x300 with 1 Axes>"
      ]
     },
     "metadata": {},
     "output_type": "display_data"
    }
   ],
   "source": [
    "sns.set(font_scale=1) # Increase font size\n",
    "\n",
    "def plot_conf_mat(y_test, y_preds):\n",
    "    fig, ax = plt.subplots(figsize=(3, 3))\n",
    "    ax = sns.heatmap(confusion_matrix(y_test, y_preds),\n",
    "                     annot=True, \n",
    "                     cbar=False)\n",
    "    plt.xlabel(\"true label\")\n",
    "    plt.ylabel(\"predicted label\")\n",
    "    \n",
    "plot_conf_mat(y_test, y_preds)"
   ]
  },
  {
   "cell_type": "markdown",
   "metadata": {},
   "source": [
    "The confusion matrix shows that the model is pretty good at guessing right (27887)when something wasn't true and got it right 23897 times when something was true. However, there are 6257 false positives and 3278 false negatives thereby indicating areas for improvement"
   ]
  },
  {
   "cell_type": "markdown",
   "metadata": {},
   "source": [
    "## Classification Report"
   ]
  },
  {
   "cell_type": "code",
   "execution_count": 50,
   "metadata": {
    "tags": []
   },
   "outputs": [
    {
     "name": "stdout",
     "output_type": "stream",
     "text": [
      "              precision    recall  f1-score   support\n",
      "\n",
      "         0.0       0.89      0.82      0.85     34144\n",
      "         1.0       0.79      0.88      0.83     27175\n",
      "\n",
      "    accuracy                           0.84     61319\n",
      "   macro avg       0.84      0.85      0.84     61319\n",
      "weighted avg       0.85      0.84      0.84     61319\n",
      "\n"
     ]
    }
   ],
   "source": [
    "print(classification_report(y_test, y_preds))"
   ]
  },
  {
   "cell_type": "markdown",
   "metadata": {},
   "source": [
    "# Evaluation metrics using cross-validation"
   ]
  },
  {
   "cell_type": "code",
   "execution_count": 51,
   "metadata": {
    "tags": []
   },
   "outputs": [
    {
     "data": {
      "text/plain": [
       "{'n_estimators': 310,\n",
       " 'min_samples_split': 4,\n",
       " 'min_samples_leaf': 11,\n",
       " 'max_depth': None}"
      ]
     },
     "execution_count": 51,
     "metadata": {},
     "output_type": "execute_result"
    }
   ],
   "source": [
    "rs_rf.best_params_"
   ]
  },
  {
   "cell_type": "code",
   "execution_count": 52,
   "metadata": {
    "tags": []
   },
   "outputs": [],
   "source": [
    "## Instantiate best model with best hyperparameters\n",
    "clf = RandomForestClassifier(n_estimators = 310, \n",
    "                   min_samples_split = 4,\n",
    "                   min_samples_leaf = 11,\n",
    "                   max_depth = None)"
   ]
  },
  {
   "cell_type": "markdown",
   "metadata": {},
   "source": [
    "## Mean Cross Validated Accuracy Score"
   ]
  },
  {
   "cell_type": "code",
   "execution_count": null,
   "metadata": {
    "tags": []
   },
   "outputs": [],
   "source": [
    "# # Cross-validated accuracy score\n",
    "# cv_acc = np.mean(cross_val_score(clf,\n",
    "#                          X,a\n",
    "#                          y,\n",
    "#                          cv=5, # 5-fold cross-validation\n",
    "#                          scoring=\"accuracy\")) # accuracy as scoring\n",
    "# cv_acc"
   ]
  },
  {
   "cell_type": "code",
   "execution_count": null,
   "metadata": {
    "tags": []
   },
   "outputs": [],
   "source": [
    "# # Save the cv_acc value\n",
    "# dump(cv_acc, save_directory + 'cv_accuracy.joblib')\n",
    "# print('Cross-validation accuracy saved'))"
   ]
  },
  {
   "cell_type": "code",
   "execution_count": 53,
   "metadata": {},
   "outputs": [
    {
     "name": "stdout",
     "output_type": "stream",
     "text": [
      "Cross-validation accuracy: 0.750106042581627\n"
     ]
    }
   ],
   "source": [
    "# Load the saved cv_acc value\n",
    "cv_acc = load(save_directory + 'cv_accuracy.joblib')\n",
    "print('Cross-validation accuracy:', cv_acc)"
   ]
  },
  {
   "cell_type": "markdown",
   "metadata": {},
   "source": [
    "## Mean Cross Validated Precsion Score"
   ]
  },
  {
   "cell_type": "code",
   "execution_count": null,
   "metadata": {
    "tags": []
   },
   "outputs": [],
   "source": [
    "# # Cross-validated precision score\n",
    "# cv_precision = np.mean(cross_val_score(clf,\n",
    "#                                        X,\n",
    "#                                        y,\n",
    "#                                        cv=5, # 5-fold cross-validation\n",
    "#                                        scoring=\"precision\"))\n",
    "# cv_precision"
   ]
  },
  {
   "cell_type": "code",
   "execution_count": null,
   "metadata": {
    "tags": []
   },
   "outputs": [],
   "source": [
    "# # Save the cv_precision value\n",
    "# dump(cv_precision, save_directory + 'cv_precision.joblib')\n",
    "# print('Cross-validation precision score saved'))"
   ]
  },
  {
   "cell_type": "code",
   "execution_count": 54,
   "metadata": {},
   "outputs": [
    {
     "name": "stdout",
     "output_type": "stream",
     "text": [
      "Cross-validation precision score: 0.6926955016104406\n"
     ]
    }
   ],
   "source": [
    "# Load the saved cv_precision value\n",
    "cv_precision = load(save_directory + 'cv_precision.joblib')\n",
    "print('Cross-validation precision score:', cv_precision)"
   ]
  },
  {
   "cell_type": "markdown",
   "metadata": {},
   "source": [
    "## Mean Cross Validated Recall Score"
   ]
  },
  {
   "cell_type": "code",
   "execution_count": null,
   "metadata": {
    "tags": []
   },
   "outputs": [],
   "source": [
    "# # Cross-validated recall score\n",
    "# cv_recall = np.mean(cross_val_score(clf,\n",
    "#                                     X,\n",
    "#                                     y,\n",
    "#                                     cv=5, # 5-fold cross-validation\n",
    "#                                     scoring=\"recall\"))\n",
    "# cv_recall"
   ]
  },
  {
   "cell_type": "code",
   "execution_count": null,
   "metadata": {
    "tags": []
   },
   "outputs": [],
   "source": [
    "# # Save the cv_recall value\n",
    "# dump(cv_recall, save_directory + 'cv_recall.joblib')\n",
    "# print('Cross-validation recall score saved'))"
   ]
  },
  {
   "cell_type": "code",
   "execution_count": 55,
   "metadata": {},
   "outputs": [
    {
     "name": "stdout",
     "output_type": "stream",
     "text": [
      "Cross-validation recall score: 0.789316239417369\n"
     ]
    }
   ],
   "source": [
    "# Load the saved cv_recall value\n",
    "cv_recall = load(save_directory + 'cv_recall.joblib')\n",
    "print('Cross-validation recall score:', cv_recall)"
   ]
  },
  {
   "cell_type": "markdown",
   "metadata": {},
   "source": [
    "## Mean Cross Validated F1 Score"
   ]
  },
  {
   "cell_type": "code",
   "execution_count": null,
   "metadata": {
    "tags": []
   },
   "outputs": [],
   "source": [
    "# # Cross-validated F1 score\n",
    "# cv_f1 = np.mean(cross_val_score(clf,\n",
    "#                                 X,\n",
    "#                                 y,\n",
    "#                                 cv=5, \n",
    "#                                 scoring=\"f1\")) \n",
    "# cv_f1"
   ]
  },
  {
   "cell_type": "code",
   "execution_count": null,
   "metadata": {
    "tags": []
   },
   "outputs": [],
   "source": [
    "# # Save the cv_f1 value\n",
    "# dump(cv_f1, save_directory + 'cv_f1.joblib')\n",
    "# print('Cross-validation F1 score saved'))"
   ]
  },
  {
   "cell_type": "code",
   "execution_count": 56,
   "metadata": {},
   "outputs": [
    {
     "name": "stdout",
     "output_type": "stream",
     "text": [
      "Cross-validation F1 score: 0.7379484934145412\n"
     ]
    }
   ],
   "source": [
    "# Load the saved cv_f1 value\n",
    "cv_f1 = load(save_directory + 'cv_f1.joblib')\n",
    "print('Cross-validation F1 score:', cv_f1)"
   ]
  },
  {
   "cell_type": "markdown",
   "metadata": {},
   "source": [
    "## Visualizing cross-validated metrics"
   ]
  },
  {
   "cell_type": "code",
   "execution_count": 57,
   "metadata": {
    "tags": []
   },
   "outputs": [
    {
     "data": {
      "image/png": "[encoded data removed]",
      "text/plain": [
       "<Figure size 640x480 with 1 Axes>"
      ]
     },
     "metadata": {},
     "output_type": "display_data"
    }
   ],
   "source": [
    "cv_metrics = pd.DataFrame({\"Accuracy\": cv_acc,\n",
    "                            \"Precision\": cv_precision,\n",
    "                            \"Recall\": cv_recall,\n",
    "                            \"F1\": cv_f1},\n",
    "                          index=[0])\n",
    "cv_metrics.T.plot.bar(title=\"Cross-Validated Metrics\", legend=False);"
   ]
  },
  {
   "cell_type": "markdown",
   "metadata": {},
   "source": [
    "# Feature Importance Analysis"
   ]
  },
  {
   "cell_type": "markdown",
   "metadata": {},
   "source": [
    "Let's take a look at which parts of the data have the biggest impact on what the model predicts."
   ]
  },
  {
   "cell_type": "code",
   "execution_count": 58,
   "metadata": {
    "tags": []
   },
   "outputs": [],
   "source": [
    "# Fit an instance of RandomForestClassifier\n",
    "clf.fit(X_train, y_train);"
   ]
  },
  {
   "cell_type": "code",
   "execution_count": 59,
   "metadata": {
    "tags": []
   },
   "outputs": [],
   "source": [
    "feature_importances = clf.feature_importances_"
   ]
  },
  {
   "cell_type": "code",
   "execution_count": 60,
   "metadata": {
    "tags": []
   },
   "outputs": [],
   "source": [
    "features_dict = dict(zip(df_cleaned.columns, feature_importances))"
   ]
  },
  {
   "cell_type": "code",
   "execution_count": 61,
   "metadata": {
    "tags": []
   },
   "outputs": [
    {
     "data": {
      "text/plain": [
       "{'lf_measurements:light': 0.07537468077756511,\n",
       " 'location:max_speed': 0.03403124769656329,\n",
       " 'discrete:time_of_day:between12and18': 0.060086267772315176,\n",
       " 'audio_naive:mfcc1:std': 0.06093427369807594,\n",
       " 'audio_naive:mfcc2:std': 0.058281332172434495,\n",
       " 'audio_naive:mfcc3:std': 0.041462999725892714,\n",
       " 'discrete:time_of_day:between15and21': 0.043360900628226826,\n",
       " 'audio_naive:mfcc4:std': 0.03704440590815199,\n",
       " 'audio_naive:mfcc5:std': 0.027172904439854543,\n",
       " 'audio_naive:mfcc6:std': 0.031531589822378185,\n",
       " 'audio_naive:mfcc7:std': 0.027435684906716325,\n",
       " 'location:min_speed': 0.02073908608430581,\n",
       " 'audio_naive:mfcc8:std': 0.025375759641525303,\n",
       " 'audio_naive:mfcc10:std': 0.02081059009123505,\n",
       " 'audio_naive:mfcc9:std': 0.021027138241907516,\n",
       " 'audio_naive:mfcc1:mean': 0.0686234276811381,\n",
       " 'audio_naive:mfcc11:std': 0.02195100556164256,\n",
       " 'discrete:time_of_day:between9and15': 0.037462146972628396,\n",
       " 'audio_naive:mfcc12:std': 0.023618305818491604,\n",
       " 'lf_measurements:screen_brightness': 0.06278706331454692,\n",
       " 'watch_acceleration:3d:mean_y': 0.05426561674671741,\n",
       " 'location:best_horizontal_accuracy': 0.03176257899237415,\n",
       " 'proc_gyro:magnitude_spectrum:spectral_entropy': 0.044656045988136536,\n",
       " 'proc_gyro:magnitude_spectrum:log_energy_band1': 0.037887218167868775,\n",
       " 'discrete:time_of_day:between18and24': 0.03231772914930717}"
      ]
     },
     "execution_count": 61,
     "metadata": {},
     "output_type": "execute_result"
    }
   ],
   "source": [
    "features_dict"
   ]
  },
  {
   "cell_type": "markdown",
   "metadata": {
    "tags": []
   },
   "source": [
    "## Sorting and Plotting Features of Importance"
   ]
  },
  {
   "cell_type": "code",
   "execution_count": 62,
   "metadata": {
    "tags": []
   },
   "outputs": [
    {
     "data": {
      "image/png": "[encoded data removed]",
      "text/plain": [
       "<Figure size 640x480 with 1 Axes>"
      ]
     },
     "metadata": {},
     "output_type": "display_data"
    }
   ],
   "source": [
    "features_df = pd.DataFrame(features_dict, index=[0]).T.sort_values(by=0, ascending=False)\n",
    "features_df.plot.bar(title=\"Feature Importance\", legend=False);"
   ]
  },
  {
   "cell_type": "markdown",
   "metadata": {
    "tags": []
   },
   "source": [
    "# References\n",
    "\n",
    "Major parts of this notebook were inspired from the following github guide:\n",
    "\n",
    "[Github](https://github.com/mrdbourke/zero-to-mastery-ml/blob/master/section-3-structured-data-projects/end-to-end-heart-disease-classification.ipynb)\n"
   ]
  }
 ],
 "metadata": {
  "accelerator": "GPU",
  "colab": {
   "gpuType": "T4",
   "provenance": []
  },
  "kernelspec": {
   "display_name": "Python 3 (ipykernel)",
   "language": "python",
   "name": "python3"
  },
  "language_info": {
   "codemirror_mode": {
    "name": "ipython",
    "version": 3
   },
   "file_extension": ".py",
   "mimetype": "text/x-python",
   "name": "python",
   "nbconvert_exporter": "python",
   "pygments_lexer": "ipython3",
   "version": "3.11.5"
  }
 },
 "nbformat": 4,
 "nbformat_minor": 4
}
